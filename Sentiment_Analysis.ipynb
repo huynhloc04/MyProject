{
  "nbformat": 4,
  "nbformat_minor": 0,
  "metadata": {
    "accelerator": "GPU",
    "colab": {
      "name": "Movie Review Classification.ipynb",
      "provenance": [],
      "collapsed_sections": [
        "CbgGVw1faJey",
        "ROrk8lTSgQXQ",
        "B3BUPYoSbGCQ",
        "V05SBg4tLFRU",
        "rXoBsorNbSFQ",
        "HR3c7_AI3reF",
        "OPnUVmYPOeD1",
        "tahlNo-HcvXI",
        "Q5QsKIdqnudF"
      ]
    },
    "kernelspec": {
      "display_name": "Python 3",
      "name": "python3"
    },
    "language_info": {
      "name": "python"
    },
    "widgets": {
      "application/vnd.jupyter.widget-state+json": {
        "2ddc8f7459e647fc91c017dc7e85e35e": {
          "model_module": "@jupyter-widgets/controls",
          "model_name": "HBoxModel",
          "model_module_version": "1.5.0",
          "state": {
            "_view_name": "HBoxView",
            "_dom_classes": [],
            "_model_name": "HBoxModel",
            "_view_module": "@jupyter-widgets/controls",
            "_model_module_version": "1.5.0",
            "_view_count": null,
            "_view_module_version": "1.5.0",
            "box_style": "",
            "layout": "IPY_MODEL_46d2bc815782426da249c87315b618e4",
            "_model_module": "@jupyter-widgets/controls",
            "children": [
              "IPY_MODEL_9d08375f85b644f09d19f79d6c6938f8",
              "IPY_MODEL_9f0c9dc6d253476f88719a2fa5addcd6",
              "IPY_MODEL_aa91122071f6414680e2bc4f2e5dfe39"
            ]
          }
        },
        "46d2bc815782426da249c87315b618e4": {
          "model_module": "@jupyter-widgets/base",
          "model_name": "LayoutModel",
          "model_module_version": "1.2.0",
          "state": {
            "_view_name": "LayoutView",
            "grid_template_rows": null,
            "right": null,
            "justify_content": null,
            "_view_module": "@jupyter-widgets/base",
            "overflow": null,
            "_model_module_version": "1.2.0",
            "_view_count": null,
            "flex_flow": null,
            "width": null,
            "min_width": null,
            "border": null,
            "align_items": null,
            "bottom": null,
            "_model_module": "@jupyter-widgets/base",
            "top": null,
            "grid_column": null,
            "overflow_y": null,
            "overflow_x": null,
            "grid_auto_flow": null,
            "grid_area": null,
            "grid_template_columns": null,
            "flex": null,
            "_model_name": "LayoutModel",
            "justify_items": null,
            "grid_row": null,
            "max_height": null,
            "align_content": null,
            "visibility": null,
            "align_self": null,
            "height": null,
            "min_height": null,
            "padding": null,
            "grid_auto_rows": null,
            "grid_gap": null,
            "max_width": null,
            "order": null,
            "_view_module_version": "1.2.0",
            "grid_template_areas": null,
            "object_position": null,
            "object_fit": null,
            "grid_auto_columns": null,
            "margin": null,
            "display": null,
            "left": null
          }
        },
        "9d08375f85b644f09d19f79d6c6938f8": {
          "model_module": "@jupyter-widgets/controls",
          "model_name": "HTMLModel",
          "model_module_version": "1.5.0",
          "state": {
            "_view_name": "HTMLView",
            "style": "IPY_MODEL_4f8fea5da08447f88416c7539461be6c",
            "_dom_classes": [],
            "description": "",
            "_model_name": "HTMLModel",
            "placeholder": "​",
            "_view_module": "@jupyter-widgets/controls",
            "_model_module_version": "1.5.0",
            "value": "Downloading: 100%",
            "_view_count": null,
            "_view_module_version": "1.5.0",
            "description_tooltip": null,
            "_model_module": "@jupyter-widgets/controls",
            "layout": "IPY_MODEL_de88ab1c817a4bfca30760f33d30f993"
          }
        },
        "9f0c9dc6d253476f88719a2fa5addcd6": {
          "model_module": "@jupyter-widgets/controls",
          "model_name": "FloatProgressModel",
          "model_module_version": "1.5.0",
          "state": {
            "_view_name": "ProgressView",
            "style": "IPY_MODEL_278adfce1e0a4472b3c13d83c94c5ce5",
            "_dom_classes": [],
            "description": "",
            "_model_name": "FloatProgressModel",
            "bar_style": "success",
            "max": 231508,
            "_view_module": "@jupyter-widgets/controls",
            "_model_module_version": "1.5.0",
            "value": 231508,
            "_view_count": null,
            "_view_module_version": "1.5.0",
            "orientation": "horizontal",
            "min": 0,
            "description_tooltip": null,
            "_model_module": "@jupyter-widgets/controls",
            "layout": "IPY_MODEL_080be1cbe96c4bbdb185b930100a8938"
          }
        },
        "aa91122071f6414680e2bc4f2e5dfe39": {
          "model_module": "@jupyter-widgets/controls",
          "model_name": "HTMLModel",
          "model_module_version": "1.5.0",
          "state": {
            "_view_name": "HTMLView",
            "style": "IPY_MODEL_969594dddaaa441eaceee548e15162b0",
            "_dom_classes": [],
            "description": "",
            "_model_name": "HTMLModel",
            "placeholder": "​",
            "_view_module": "@jupyter-widgets/controls",
            "_model_module_version": "1.5.0",
            "value": " 232k/232k [00:00&lt;00:00, 974kB/s]",
            "_view_count": null,
            "_view_module_version": "1.5.0",
            "description_tooltip": null,
            "_model_module": "@jupyter-widgets/controls",
            "layout": "IPY_MODEL_ed1c84d6c93b416f9eae88cb452ef774"
          }
        },
        "4f8fea5da08447f88416c7539461be6c": {
          "model_module": "@jupyter-widgets/controls",
          "model_name": "DescriptionStyleModel",
          "model_module_version": "1.5.0",
          "state": {
            "_view_name": "StyleView",
            "_model_name": "DescriptionStyleModel",
            "description_width": "",
            "_view_module": "@jupyter-widgets/base",
            "_model_module_version": "1.5.0",
            "_view_count": null,
            "_view_module_version": "1.2.0",
            "_model_module": "@jupyter-widgets/controls"
          }
        },
        "de88ab1c817a4bfca30760f33d30f993": {
          "model_module": "@jupyter-widgets/base",
          "model_name": "LayoutModel",
          "model_module_version": "1.2.0",
          "state": {
            "_view_name": "LayoutView",
            "grid_template_rows": null,
            "right": null,
            "justify_content": null,
            "_view_module": "@jupyter-widgets/base",
            "overflow": null,
            "_model_module_version": "1.2.0",
            "_view_count": null,
            "flex_flow": null,
            "width": null,
            "min_width": null,
            "border": null,
            "align_items": null,
            "bottom": null,
            "_model_module": "@jupyter-widgets/base",
            "top": null,
            "grid_column": null,
            "overflow_y": null,
            "overflow_x": null,
            "grid_auto_flow": null,
            "grid_area": null,
            "grid_template_columns": null,
            "flex": null,
            "_model_name": "LayoutModel",
            "justify_items": null,
            "grid_row": null,
            "max_height": null,
            "align_content": null,
            "visibility": null,
            "align_self": null,
            "height": null,
            "min_height": null,
            "padding": null,
            "grid_auto_rows": null,
            "grid_gap": null,
            "max_width": null,
            "order": null,
            "_view_module_version": "1.2.0",
            "grid_template_areas": null,
            "object_position": null,
            "object_fit": null,
            "grid_auto_columns": null,
            "margin": null,
            "display": null,
            "left": null
          }
        },
        "278adfce1e0a4472b3c13d83c94c5ce5": {
          "model_module": "@jupyter-widgets/controls",
          "model_name": "ProgressStyleModel",
          "model_module_version": "1.5.0",
          "state": {
            "_view_name": "StyleView",
            "_model_name": "ProgressStyleModel",
            "description_width": "",
            "_view_module": "@jupyter-widgets/base",
            "_model_module_version": "1.5.0",
            "_view_count": null,
            "_view_module_version": "1.2.0",
            "bar_color": null,
            "_model_module": "@jupyter-widgets/controls"
          }
        },
        "080be1cbe96c4bbdb185b930100a8938": {
          "model_module": "@jupyter-widgets/base",
          "model_name": "LayoutModel",
          "model_module_version": "1.2.0",
          "state": {
            "_view_name": "LayoutView",
            "grid_template_rows": null,
            "right": null,
            "justify_content": null,
            "_view_module": "@jupyter-widgets/base",
            "overflow": null,
            "_model_module_version": "1.2.0",
            "_view_count": null,
            "flex_flow": null,
            "width": null,
            "min_width": null,
            "border": null,
            "align_items": null,
            "bottom": null,
            "_model_module": "@jupyter-widgets/base",
            "top": null,
            "grid_column": null,
            "overflow_y": null,
            "overflow_x": null,
            "grid_auto_flow": null,
            "grid_area": null,
            "grid_template_columns": null,
            "flex": null,
            "_model_name": "LayoutModel",
            "justify_items": null,
            "grid_row": null,
            "max_height": null,
            "align_content": null,
            "visibility": null,
            "align_self": null,
            "height": null,
            "min_height": null,
            "padding": null,
            "grid_auto_rows": null,
            "grid_gap": null,
            "max_width": null,
            "order": null,
            "_view_module_version": "1.2.0",
            "grid_template_areas": null,
            "object_position": null,
            "object_fit": null,
            "grid_auto_columns": null,
            "margin": null,
            "display": null,
            "left": null
          }
        },
        "969594dddaaa441eaceee548e15162b0": {
          "model_module": "@jupyter-widgets/controls",
          "model_name": "DescriptionStyleModel",
          "model_module_version": "1.5.0",
          "state": {
            "_view_name": "StyleView",
            "_model_name": "DescriptionStyleModel",
            "description_width": "",
            "_view_module": "@jupyter-widgets/base",
            "_model_module_version": "1.5.0",
            "_view_count": null,
            "_view_module_version": "1.2.0",
            "_model_module": "@jupyter-widgets/controls"
          }
        },
        "ed1c84d6c93b416f9eae88cb452ef774": {
          "model_module": "@jupyter-widgets/base",
          "model_name": "LayoutModel",
          "model_module_version": "1.2.0",
          "state": {
            "_view_name": "LayoutView",
            "grid_template_rows": null,
            "right": null,
            "justify_content": null,
            "_view_module": "@jupyter-widgets/base",
            "overflow": null,
            "_model_module_version": "1.2.0",
            "_view_count": null,
            "flex_flow": null,
            "width": null,
            "min_width": null,
            "border": null,
            "align_items": null,
            "bottom": null,
            "_model_module": "@jupyter-widgets/base",
            "top": null,
            "grid_column": null,
            "overflow_y": null,
            "overflow_x": null,
            "grid_auto_flow": null,
            "grid_area": null,
            "grid_template_columns": null,
            "flex": null,
            "_model_name": "LayoutModel",
            "justify_items": null,
            "grid_row": null,
            "max_height": null,
            "align_content": null,
            "visibility": null,
            "align_self": null,
            "height": null,
            "min_height": null,
            "padding": null,
            "grid_auto_rows": null,
            "grid_gap": null,
            "max_width": null,
            "order": null,
            "_view_module_version": "1.2.0",
            "grid_template_areas": null,
            "object_position": null,
            "object_fit": null,
            "grid_auto_columns": null,
            "margin": null,
            "display": null,
            "left": null
          }
        }
      }
    }
  },
  "cells": [
    {
      "cell_type": "code",
      "metadata": {
        "colab": {
          "base_uri": "https://localhost:8080/"
        },
        "id": "6-xTHs_EreWX",
        "outputId": "b83e1473-51be-47ed-cc8b-dad18c676b90"
      },
      "source": [
        "!nvidia-smi"
      ],
      "execution_count": 85,
      "outputs": [
        {
          "output_type": "stream",
          "name": "stdout",
          "text": [
            "Tue Oct  5 03:37:08 2021       \n",
            "+-----------------------------------------------------------------------------+\n",
            "| NVIDIA-SMI 470.74       Driver Version: 460.32.03    CUDA Version: 11.2     |\n",
            "|-------------------------------+----------------------+----------------------+\n",
            "| GPU  Name        Persistence-M| Bus-Id        Disp.A | Volatile Uncorr. ECC |\n",
            "| Fan  Temp  Perf  Pwr:Usage/Cap|         Memory-Usage | GPU-Util  Compute M. |\n",
            "|                               |                      |               MIG M. |\n",
            "|===============================+======================+======================|\n",
            "|   0  Tesla K80           Off  | 00000000:00:04.0 Off |                    0 |\n",
            "| N/A   73C    P0    76W / 149W |   1281MiB / 11441MiB |      0%      Default |\n",
            "|                               |                      |                  N/A |\n",
            "+-------------------------------+----------------------+----------------------+\n",
            "                                                                               \n",
            "+-----------------------------------------------------------------------------+\n",
            "| Processes:                                                                  |\n",
            "|  GPU   GI   CI        PID   Type   Process name                  GPU Memory |\n",
            "|        ID   ID                                                   Usage      |\n",
            "|=============================================================================|\n",
            "|  No running processes found                                                 |\n",
            "+-----------------------------------------------------------------------------+\n"
          ]
        }
      ]
    },
    {
      "cell_type": "markdown",
      "metadata": {
        "id": "CbgGVw1faJey"
      },
      "source": [
        "# **Setting up**"
      ]
    },
    {
      "cell_type": "code",
      "metadata": {
        "id": "s6nLPNvBvP4Q",
        "colab": {
          "base_uri": "https://localhost:8080/"
        },
        "outputId": "2571220e-d16e-4873-ae0a-fd0e96766a35"
      },
      "source": [
        "from google.colab import drive\n",
        "drive.mount('/content/drive')"
      ],
      "execution_count": 1,
      "outputs": [
        {
          "output_type": "stream",
          "name": "stdout",
          "text": [
            "Mounted at /content/drive\n"
          ]
        }
      ]
    },
    {
      "cell_type": "code",
      "metadata": {
        "id": "GJoCNzrfxx0W",
        "colab": {
          "base_uri": "https://localhost:8080/"
        },
        "outputId": "473ec78a-d41d-4880-95c9-cf7da144257e"
      },
      "source": [
        "cd /content/drive/MyDrive/Basic_DeepLearning/Final_Project"
      ],
      "execution_count": 2,
      "outputs": [
        {
          "output_type": "stream",
          "name": "stdout",
          "text": [
            "/content/drive/MyDrive/Basic_DeepLearning/Final_Project\n"
          ]
        }
      ]
    },
    {
      "cell_type": "code",
      "metadata": {
        "id": "sSDmBcOIjHOG"
      },
      "source": [
        "import numpy as np\n",
        "import torch\n",
        "import seaborn as sns\n",
        "import matplotlib.pyplot as plt\n",
        "import pandas as pd\n",
        "import nltk\n",
        "import itertools\n",
        "import string\n",
        "from nltk.corpus import stopwords\n",
        "from keras.models import Sequential, load_model\n",
        "from keras.regularizers import l2\n",
        "from sklearn.model_selection import train_test_split\n",
        "from keras.layers import Dense, Embedding, Flatten, Conv1D, MaxPooling1D, Dropout\n",
        "from keras.preprocessing.text import Tokenizer\n",
        "from keras.preprocessing.sequence import pad_sequences"
      ],
      "execution_count": 81,
      "outputs": []
    },
    {
      "cell_type": "code",
      "metadata": {
        "id": "GowQ0Y8x3jdm"
      },
      "source": [
        "#   Ignore warning\n",
        "import warnings\n",
        "warnings.filterwarnings(\"ignore\")"
      ],
      "execution_count": 4,
      "outputs": []
    },
    {
      "cell_type": "code",
      "metadata": {
        "id": "O1o5s1g5eMHa"
      },
      "source": [
        "plt.style.available\n",
        "plt.style.use('seaborn-whitegrid')"
      ],
      "execution_count": 5,
      "outputs": []
    },
    {
      "cell_type": "code",
      "metadata": {
        "id": "VxQS9-9idnaJ"
      },
      "source": [
        "#   Set style for seaborn\n",
        "sns.set(style = 'whitegrid', palette = 'muted', font_scale = 1.2)"
      ],
      "execution_count": 6,
      "outputs": []
    },
    {
      "cell_type": "code",
      "metadata": {
        "colab": {
          "base_uri": "https://localhost:8080/"
        },
        "id": "llhumnoeHycr",
        "outputId": "9ad901ce-2e23-4a29-c6c8-d9a6e2b58e89"
      },
      "source": [
        "nltk.download(\"stopwords\")"
      ],
      "execution_count": 7,
      "outputs": [
        {
          "output_type": "stream",
          "name": "stdout",
          "text": [
            "[nltk_data] Downloading package stopwords to /root/nltk_data...\n",
            "[nltk_data]   Unzipping corpora/stopwords.zip.\n"
          ]
        },
        {
          "output_type": "execute_result",
          "data": {
            "text/plain": [
              "True"
            ]
          },
          "metadata": {},
          "execution_count": 7
        }
      ]
    },
    {
      "cell_type": "code",
      "metadata": {
        "id": "kpebPNf0Zvmh"
      },
      "source": [
        "RANDOM_SEED = 42\n",
        "np.random.seed(RANDOM_SEED)\n",
        "torch.manual_seed(RANDOM_SEED)"
      ],
      "execution_count": null,
      "outputs": []
    },
    {
      "cell_type": "markdown",
      "metadata": {
        "id": "ROrk8lTSgQXQ"
      },
      "source": [
        "# ***Loading and preprocessing data***"
      ]
    },
    {
      "cell_type": "code",
      "metadata": {
        "id": "jt1oOYOgI0fZ"
      },
      "source": [
        "def clean_doc(text):\n",
        "    tokens = text.split()\n",
        "    #  Remove punctuation from each token\n",
        "    table = str.maketrans('', '', string.punctuation)\n",
        "    tokens = [c.translate(table) for c in tokens]\n",
        "    #   Remove remaining tokens that are not alphabetic\n",
        "    tokens = [word for word in tokens if word.isalpha()]\n",
        "    #   Filter out stop words. A stop word is a commonly used word (such as “a”, “an”, “in”, ...)\n",
        "    stop_words = set(stopwords.words('english'))\n",
        "    tokens = [word for word in tokens if not word in stop_words]\n",
        "    #   Turn lower words into upper\n",
        "    tokens = [word.lower() for word in tokens]\n",
        "    #   Filter out short tokens\n",
        "    tokens = [word for word in tokens if len(word) > 2]\n",
        "    tokens = ' '.join(tokens)\n",
        "    return tokens"
      ],
      "execution_count": 8,
      "outputs": []
    },
    {
      "cell_type": "code",
      "metadata": {
        "id": "63VR7ZgctYDn"
      },
      "source": [
        "def process_doc(data):\n",
        "    documents = []\n",
        "    for sentence in data:\n",
        "        #   Clean review\n",
        "        tokens = clean_doc(sentence)\n",
        "        #   Add to ducuments\n",
        "        documents.append(tokens)\n",
        "    return documents"
      ],
      "execution_count": 9,
      "outputs": []
    },
    {
      "cell_type": "markdown",
      "metadata": {
        "id": "1NUhJnpagW13"
      },
      "source": [
        "###***Loading data***"
      ]
    },
    {
      "cell_type": "code",
      "metadata": {
        "colab": {
          "base_uri": "https://localhost:8080/",
          "height": 202
        },
        "id": "_M8nyVWO1sSM",
        "outputId": "3da83a58-99c2-42a1-f905-8db83b4b9fa6"
      },
      "source": [
        "df = pd.read_csv(\"review.csv\")\n",
        "df.head()"
      ],
      "execution_count": 10,
      "outputs": [
        {
          "output_type": "execute_result",
          "data": {
            "text/html": [
              "<div>\n",
              "<style scoped>\n",
              "    .dataframe tbody tr th:only-of-type {\n",
              "        vertical-align: middle;\n",
              "    }\n",
              "\n",
              "    .dataframe tbody tr th {\n",
              "        vertical-align: top;\n",
              "    }\n",
              "\n",
              "    .dataframe thead th {\n",
              "        text-align: right;\n",
              "    }\n",
              "</style>\n",
              "<table border=\"1\" class=\"dataframe\">\n",
              "  <thead>\n",
              "    <tr style=\"text-align: right;\">\n",
              "      <th></th>\n",
              "      <th>review</th>\n",
              "      <th>sentiment</th>\n",
              "    </tr>\n",
              "  </thead>\n",
              "  <tbody>\n",
              "    <tr>\n",
              "      <th>0</th>\n",
              "      <td>One of the other reviewers has mentioned that ...</td>\n",
              "      <td>positive</td>\n",
              "    </tr>\n",
              "    <tr>\n",
              "      <th>1</th>\n",
              "      <td>A wonderful little production. &lt;br /&gt;&lt;br /&gt;The...</td>\n",
              "      <td>positive</td>\n",
              "    </tr>\n",
              "    <tr>\n",
              "      <th>2</th>\n",
              "      <td>I thought this was a wonderful way to spend ti...</td>\n",
              "      <td>positive</td>\n",
              "    </tr>\n",
              "    <tr>\n",
              "      <th>3</th>\n",
              "      <td>Basically there's a family where a little boy ...</td>\n",
              "      <td>negative</td>\n",
              "    </tr>\n",
              "    <tr>\n",
              "      <th>4</th>\n",
              "      <td>Petter Mattei's \"Love in the Time of Money\" is...</td>\n",
              "      <td>positive</td>\n",
              "    </tr>\n",
              "  </tbody>\n",
              "</table>\n",
              "</div>"
            ],
            "text/plain": [
              "                                              review sentiment\n",
              "0  One of the other reviewers has mentioned that ...  positive\n",
              "1  A wonderful little production. <br /><br />The...  positive\n",
              "2  I thought this was a wonderful way to spend ti...  positive\n",
              "3  Basically there's a family where a little boy ...  negative\n",
              "4  Petter Mattei's \"Love in the Time of Money\" is...  positive"
            ]
          },
          "metadata": {},
          "execution_count": 10
        }
      ]
    },
    {
      "cell_type": "markdown",
      "metadata": {
        "id": "4YLlFnXKgeiX"
      },
      "source": [
        "###***Preprocessing data***"
      ]
    },
    {
      "cell_type": "code",
      "metadata": {
        "colab": {
          "base_uri": "https://localhost:8080/",
          "height": 202
        },
        "id": "b9gv5RKf7Hwj",
        "outputId": "84e706b5-3e7d-4bb2-9ccf-0ce0375af343"
      },
      "source": [
        "df['labels'] = df['sentiment'].map({'positive': 1, 'negative': 0})\n",
        "new_df = df[['review','labels']]\n",
        "new_df.head()"
      ],
      "execution_count": 11,
      "outputs": [
        {
          "output_type": "execute_result",
          "data": {
            "text/html": [
              "<div>\n",
              "<style scoped>\n",
              "    .dataframe tbody tr th:only-of-type {\n",
              "        vertical-align: middle;\n",
              "    }\n",
              "\n",
              "    .dataframe tbody tr th {\n",
              "        vertical-align: top;\n",
              "    }\n",
              "\n",
              "    .dataframe thead th {\n",
              "        text-align: right;\n",
              "    }\n",
              "</style>\n",
              "<table border=\"1\" class=\"dataframe\">\n",
              "  <thead>\n",
              "    <tr style=\"text-align: right;\">\n",
              "      <th></th>\n",
              "      <th>review</th>\n",
              "      <th>labels</th>\n",
              "    </tr>\n",
              "  </thead>\n",
              "  <tbody>\n",
              "    <tr>\n",
              "      <th>0</th>\n",
              "      <td>One of the other reviewers has mentioned that ...</td>\n",
              "      <td>1</td>\n",
              "    </tr>\n",
              "    <tr>\n",
              "      <th>1</th>\n",
              "      <td>A wonderful little production. &lt;br /&gt;&lt;br /&gt;The...</td>\n",
              "      <td>1</td>\n",
              "    </tr>\n",
              "    <tr>\n",
              "      <th>2</th>\n",
              "      <td>I thought this was a wonderful way to spend ti...</td>\n",
              "      <td>1</td>\n",
              "    </tr>\n",
              "    <tr>\n",
              "      <th>3</th>\n",
              "      <td>Basically there's a family where a little boy ...</td>\n",
              "      <td>0</td>\n",
              "    </tr>\n",
              "    <tr>\n",
              "      <th>4</th>\n",
              "      <td>Petter Mattei's \"Love in the Time of Money\" is...</td>\n",
              "      <td>1</td>\n",
              "    </tr>\n",
              "  </tbody>\n",
              "</table>\n",
              "</div>"
            ],
            "text/plain": [
              "                                              review  labels\n",
              "0  One of the other reviewers has mentioned that ...       1\n",
              "1  A wonderful little production. <br /><br />The...       1\n",
              "2  I thought this was a wonderful way to spend ti...       1\n",
              "3  Basically there's a family where a little boy ...       0\n",
              "4  Petter Mattei's \"Love in the Time of Money\" is...       1"
            ]
          },
          "metadata": {},
          "execution_count": 11
        }
      ]
    },
    {
      "cell_type": "code",
      "metadata": {
        "id": "WeBKkTDL23Jf"
      },
      "source": [
        "#   Generate data and labels from new_df\n",
        "data = list(new_df[\"review\"])\n",
        "labels = list(new_df[\"labels\"])\n",
        "\n",
        "#   Create val_set (5000 for val)\n",
        "X_data, X_val, Y_data, Y_val = train_test_split(data, labels, test_size = 0.1, random_state = 42)\n",
        "\n",
        "#   Create train_set, test_set (40500 for train, 4500 for test)\n",
        "X_train, X_test, Y_train, Y_test = train_test_split(X_data, Y_data, test_size = 0.1, random_state = 42)"
      ],
      "execution_count": 12,
      "outputs": []
    },
    {
      "cell_type": "code",
      "metadata": {
        "id": "zQ7dj1xzcBtw"
      },
      "source": [
        "#   Generate Train_Set\n",
        "X_train = process_doc(X_train)\n",
        "#   Save Train_Set\n",
        "np.savez('Train_Set.npz', x = X_train, y = Y_train)\n",
        "\n",
        "#   Generate Test_Set\n",
        "X_test = process_doc(X_test)\n",
        "#   Save Test_Set\n",
        "np.savez('Test_Set.npz', x = X_test, y = Y_test)\n",
        "\n",
        "#   Generate Val_Set\n",
        "X_val = process_doc(X_val)\n",
        "#   Save Val_Set\n",
        "np.savez('Val_Set.npz', x = X_val, y = Y_val)"
      ],
      "execution_count": 16,
      "outputs": []
    },
    {
      "cell_type": "code",
      "metadata": {
        "colab": {
          "base_uri": "https://localhost:8080/"
        },
        "id": "MJ2nv6mNDjHr",
        "outputId": "d4dafd7c-a346-4b27-c748-cb5202fc9455"
      },
      "source": [
        "X_train[:5]"
      ],
      "execution_count": 18,
      "outputs": [
        {
          "output_type": "execute_result",
          "data": {
            "text/plain": [
              "['watched movie first time around young kid scared jesus loved much dying get hands itbr remembered movie existed idea called went need know section imdb explained movie tried get name anyway eventually someone imdb told researched tried buy movie eventually got hold dvd keep movie one valuable horror movies really love think anyone watches scared woods next time',\n",
              " 'movie probably overall meditative quality music beautiful photography listening often cliché things life andy goldsworthy would say worked shots youre familiar buddhism sort sense got film impermanence life beauty nature interconnectedness things etc however understand confused ultimately forced leave without finishing saw hour redundancy whole thing find bits pieces hes commissioned even afford live kind work art work comes alive talking conclusions leads dead ends',\n",
              " 'classic american movie combination comedy romance dream may say lots kind films already believe youll find good one well directed scripted played amanda byness crazily amazing shes humor cute charming inside outside screen shes man indeed message get pursue fairy tale mean byfairy tale one prince princess indicates faith namely tells hold faith dream things make regret whole life dont one movies cant miss life',\n",
              " 'drawn movie moment saw preview oscar night read kay pollak hooked americans suckers comeback kidbr understand movie huge draw sweden provincial american speculate reason perhaps provocative joke lena character makes beginning movie social comment perhaps central message believe appeal everywhere affluent societiesbr message movie movie titanic life short people far anyone really knows weve got taken away time isnt pity spend much time hiding behind walls separating people afraid hurt tearing walls painful feeling alive lies side wretched walls feeling alive worth taking risk give receive start living nowbr many people criticizing movie lack characterization flaws say pseudosophisticated get grip folks parable fable affluent westerners materially rich whose souls abject povertybr join choir band help build housing distribute food less fortunate spread joy make world better place long get commune fellow man writing check enough social species way even humblest fellow human beings affect ways never thought possiblebr rugged individualism place overrated',\n",
              " 'found film interesting study cause effect little basic plot follows lives handful people actions deliberate otherwise effect lives others films premise holds great promise feel fails deliver promise much time spent telling audience chaos theory little time actually showing result never got true feel characters never made good connection emotionally end movie attitude stronger direction character development would made movie great stands merely soso']"
            ]
          },
          "metadata": {},
          "execution_count": 18
        }
      ]
    },
    {
      "cell_type": "markdown",
      "metadata": {
        "id": "B3BUPYoSbGCQ"
      },
      "source": [
        "# ***I. CNN for Text Classification***"
      ]
    },
    {
      "cell_type": "code",
      "metadata": {
        "id": "mepTRKNkqyRT"
      },
      "source": [
        "#   Load Train_Set\n",
        "train_set = np.load('data/Train_Set.npz')\n",
        "X_train = train_set['x']\n",
        "Y_train = train_set['y']"
      ],
      "execution_count": 41,
      "outputs": []
    },
    {
      "cell_type": "code",
      "metadata": {
        "id": "-w7z01umxNbu"
      },
      "source": [
        "#   Define Tokenizer\n",
        "tok = Tokenizer(oov_token = '<OOV>')\n",
        "tok.fit_on_texts(X_train)"
      ],
      "execution_count": 42,
      "outputs": []
    },
    {
      "cell_type": "code",
      "metadata": {
        "colab": {
          "base_uri": "https://localhost:8080/"
        },
        "id": "FWk5pa3fIxEU",
        "outputId": "d50e2d04-3033-4f63-d959-5c6742406a90"
      },
      "source": [
        "tok.word_index"
      ],
      "execution_count": 43,
      "outputs": [
        {
          "output_type": "execute_result",
          "data": {
            "text/plain": [
              "{'<OOV>': 1,\n",
              " 'the': 2,\n",
              " 'and': 3,\n",
              " 'this': 4,\n",
              " 'that': 5,\n",
              " 'was': 6,\n",
              " 'with': 7,\n",
              " 'for': 8,\n",
              " 'movie': 9,\n",
              " 'but': 10,\n",
              " 'film': 11,\n",
              " 'not': 12,\n",
              " 'you': 13,\n",
              " 'are': 14,\n",
              " 'his': 15,\n",
              " 'have': 16,\n",
              " 'one': 17,\n",
              " 'its': 18,\n",
              " 'all': 19,\n",
              " 'they': 20,\n",
              " 'from': 21,\n",
              " 'who': 22,\n",
              " 'like': 23,\n",
              " 'just': 24,\n",
              " 'her': 25,\n",
              " 'about': 26,\n",
              " 'has': 27,\n",
              " 'out': 28,\n",
              " 'some': 29,\n",
              " 'there': 30,\n",
              " 'what': 31,\n",
              " 'good': 32,\n",
              " 'when': 33,\n",
              " 'very': 34,\n",
              " 'more': 35,\n",
              " 'even': 36,\n",
              " 'would': 37,\n",
              " 'she': 38,\n",
              " 'time': 39,\n",
              " 'only': 40,\n",
              " 'really': 41,\n",
              " 'which': 42,\n",
              " 'their': 43,\n",
              " 'see': 44,\n",
              " 'story': 45,\n",
              " 'were': 46,\n",
              " 'had': 47,\n",
              " 'can': 48,\n",
              " 'than': 49,\n",
              " 'much': 50,\n",
              " 'well': 51,\n",
              " 'been': 52,\n",
              " 'get': 53,\n",
              " 'will': 54,\n",
              " 'also': 55,\n",
              " 'great': 56,\n",
              " 'into': 57,\n",
              " 'other': 58,\n",
              " 'bad': 59,\n",
              " 'because': 60,\n",
              " 'people': 61,\n",
              " 'how': 62,\n",
              " 'most': 63,\n",
              " 'first': 64,\n",
              " 'dont': 65,\n",
              " 'him': 66,\n",
              " 'then': 67,\n",
              " 'movies': 68,\n",
              " 'made': 69,\n",
              " 'make': 70,\n",
              " 'could': 71,\n",
              " 'them': 72,\n",
              " 'way': 73,\n",
              " 'films': 74,\n",
              " 'any': 75,\n",
              " 'after': 76,\n",
              " 'too': 77,\n",
              " 'characters': 78,\n",
              " 'think': 79,\n",
              " 'watch': 80,\n",
              " 'many': 81,\n",
              " 'seen': 82,\n",
              " 'two': 83,\n",
              " 'character': 84,\n",
              " 'being': 85,\n",
              " 'never': 86,\n",
              " 'where': 87,\n",
              " 'love': 88,\n",
              " 'acting': 89,\n",
              " 'plot': 90,\n",
              " 'little': 91,\n",
              " 'did': 92,\n",
              " 'know': 93,\n",
              " 'best': 94,\n",
              " 'show': 95,\n",
              " 'life': 96,\n",
              " 'ever': 97,\n",
              " 'does': 98,\n",
              " 'your': 99,\n",
              " 'better': 100,\n",
              " 'off': 101,\n",
              " 'over': 102,\n",
              " 'still': 103,\n",
              " 'end': 104,\n",
              " 'scene': 105,\n",
              " 'these': 106,\n",
              " 'say': 107,\n",
              " 'why': 108,\n",
              " 'man': 109,\n",
              " 'while': 110,\n",
              " 'scenes': 111,\n",
              " 'here': 112,\n",
              " 'such': 113,\n",
              " 'something': 114,\n",
              " 'should': 115,\n",
              " 'through': 116,\n",
              " 'those': 117,\n",
              " 'back': 118,\n",
              " 'real': 119,\n",
              " 'watching': 120,\n",
              " 'thing': 121,\n",
              " 'doesnt': 122,\n",
              " 'now': 123,\n",
              " 'didnt': 124,\n",
              " 'actors': 125,\n",
              " 'years': 126,\n",
              " 'though': 127,\n",
              " 'actually': 128,\n",
              " 'funny': 129,\n",
              " 'another': 130,\n",
              " 'makes': 131,\n",
              " 'find': 132,\n",
              " 'nothing': 133,\n",
              " 'before': 134,\n",
              " 'look': 135,\n",
              " 'going': 136,\n",
              " 'lot': 137,\n",
              " 'same': 138,\n",
              " 'new': 139,\n",
              " 'few': 140,\n",
              " 'every': 141,\n",
              " 'work': 142,\n",
              " 'old': 143,\n",
              " 'part': 144,\n",
              " 'cant': 145,\n",
              " 'again': 146,\n",
              " 'director': 147,\n",
              " 'thats': 148,\n",
              " 'things': 149,\n",
              " 'want': 150,\n",
              " 'quite': 151,\n",
              " 'pretty': 152,\n",
              " 'cast': 153,\n",
              " 'seems': 154,\n",
              " 'around': 155,\n",
              " 'down': 156,\n",
              " 'young': 157,\n",
              " 'got': 158,\n",
              " 'take': 159,\n",
              " 'however': 160,\n",
              " 'fact': 161,\n",
              " 'enough': 162,\n",
              " 'world': 163,\n",
              " 'both': 164,\n",
              " 'thought': 165,\n",
              " 'big': 166,\n",
              " 'give': 167,\n",
              " 'ive': 168,\n",
              " 'horror': 169,\n",
              " 'may': 170,\n",
              " 'between': 171,\n",
              " 'long': 172,\n",
              " 'without': 173,\n",
              " 'own': 174,\n",
              " 'isnt': 175,\n",
              " 'always': 176,\n",
              " 'saw': 177,\n",
              " 'music': 178,\n",
              " 'series': 179,\n",
              " 'original': 180,\n",
              " 'gets': 181,\n",
              " 'right': 182,\n",
              " 'come': 183,\n",
              " 'almost': 184,\n",
              " 'theres': 185,\n",
              " 'must': 186,\n",
              " 'whole': 187,\n",
              " 'times': 188,\n",
              " 'least': 189,\n",
              " 'role': 190,\n",
              " 'comedy': 191,\n",
              " 'interesting': 192,\n",
              " 'guy': 193,\n",
              " 'action': 194,\n",
              " 'point': 195,\n",
              " 'done': 196,\n",
              " 'bit': 197,\n",
              " 'far': 198,\n",
              " 'script': 199,\n",
              " 'feel': 200,\n",
              " 'might': 201,\n",
              " 'minutes': 202,\n",
              " 'hes': 203,\n",
              " 'anything': 204,\n",
              " 'since': 205,\n",
              " 'probably': 206,\n",
              " 'family': 207,\n",
              " 'last': 208,\n",
              " 'kind': 209,\n",
              " 'performance': 210,\n",
              " 'worst': 211,\n",
              " 'yet': 212,\n",
              " 'away': 213,\n",
              " 'rather': 214,\n",
              " 'fun': 215,\n",
              " 'anyone': 216,\n",
              " 'found': 217,\n",
              " 'sure': 218,\n",
              " 'each': 219,\n",
              " 'played': 220,\n",
              " 'girl': 221,\n",
              " 'our': 222,\n",
              " 'making': 223,\n",
              " 'having': 224,\n",
              " 'believe': 225,\n",
              " 'although': 226,\n",
              " 'woman': 227,\n",
              " 'trying': 228,\n",
              " 'shows': 229,\n",
              " 'course': 230,\n",
              " 'especially': 231,\n",
              " 'put': 232,\n",
              " 'comes': 233,\n",
              " 'goes': 234,\n",
              " 'hard': 235,\n",
              " 'everything': 236,\n",
              " 'main': 237,\n",
              " 'worth': 238,\n",
              " 'day': 239,\n",
              " 'maybe': 240,\n",
              " 'dvd': 241,\n",
              " 'ending': 242,\n",
              " 'different': 243,\n",
              " 'looking': 244,\n",
              " 'watched': 245,\n",
              " 'wasnt': 246,\n",
              " 'book': 247,\n",
              " 'looks': 248,\n",
              " 'place': 249,\n",
              " 'once': 250,\n",
              " 'three': 251,\n",
              " 'sense': 252,\n",
              " 'reason': 253,\n",
              " 'effects': 254,\n",
              " 'set': 255,\n",
              " 'screen': 256,\n",
              " 'someone': 257,\n",
              " 'plays': 258,\n",
              " 'play': 259,\n",
              " 'true': 260,\n",
              " 'money': 261,\n",
              " 'job': 262,\n",
              " 'during': 263,\n",
              " 'said': 264,\n",
              " 'actor': 265,\n",
              " 'everyone': 266,\n",
              " 'special': 267,\n",
              " 'takes': 268,\n",
              " 'together': 269,\n",
              " 'instead': 270,\n",
              " 'seem': 271,\n",
              " 'seeing': 272,\n",
              " 'beautiful': 273,\n",
              " 'left': 274,\n",
              " 'later': 275,\n",
              " 'american': 276,\n",
              " 'audience': 277,\n",
              " 'war': 278,\n",
              " 'excellent': 279,\n",
              " 'john': 280,\n",
              " 'himself': 281,\n",
              " 'night': 282,\n",
              " 'idea': 283,\n",
              " 'version': 284,\n",
              " 'shot': 285,\n",
              " 'house': 286,\n",
              " 'simply': 287,\n",
              " 'fan': 288,\n",
              " 'youre': 289,\n",
              " 'completely': 290,\n",
              " 'high': 291,\n",
              " 'poor': 292,\n",
              " 'black': 293,\n",
              " 'used': 294,\n",
              " 'nice': 295,\n",
              " 'death': 296,\n",
              " 'kids': 297,\n",
              " 'read': 298,\n",
              " 'wife': 299,\n",
              " 'short': 300,\n",
              " 'along': 301,\n",
              " 'else': 302,\n",
              " 'help': 303,\n",
              " 'friends': 304,\n",
              " 'second': 305,\n",
              " 'home': 306,\n",
              " 'star': 307,\n",
              " 'try': 308,\n",
              " 'mind': 309,\n",
              " 'half': 310,\n",
              " 'less': 311,\n",
              " 'use': 312,\n",
              " 'boring': 313,\n",
              " 'need': 314,\n",
              " 'given': 315,\n",
              " 'men': 316,\n",
              " 'enjoy': 317,\n",
              " 'until': 318,\n",
              " 'year': 319,\n",
              " 'recommend': 320,\n",
              " 'truly': 321,\n",
              " 'either': 322,\n",
              " 'rest': 323,\n",
              " 'classic': 324,\n",
              " 'dead': 325,\n",
              " 'wrong': 326,\n",
              " 'production': 327,\n",
              " 'couple': 328,\n",
              " 'next': 329,\n",
              " 'performances': 330,\n",
              " 'line': 331,\n",
              " 'tell': 332,\n",
              " 'father': 333,\n",
              " 'stupid': 334,\n",
              " 'start': 335,\n",
              " 'came': 336,\n",
              " 'let': 337,\n",
              " 'hollywood': 338,\n",
              " 'full': 339,\n",
              " 'getting': 340,\n",
              " 'women': 341,\n",
              " 'keep': 342,\n",
              " 'perhaps': 343,\n",
              " 'understand': 344,\n",
              " 'terrible': 345,\n",
              " 'sex': 346,\n",
              " 'camera': 347,\n",
              " 'others': 348,\n",
              " 'awful': 349,\n",
              " 'school': 350,\n",
              " 'wonderful': 351,\n",
              " 'mean': 352,\n",
              " 'remember': 353,\n",
              " 'video': 354,\n",
              " 'moments': 355,\n",
              " 'episode': 356,\n",
              " 'name': 357,\n",
              " 'playing': 358,\n",
              " 'budget': 359,\n",
              " 'human': 360,\n",
              " 'definitely': 361,\n",
              " 'top': 362,\n",
              " 'itself': 363,\n",
              " 'doing': 364,\n",
              " 'couldnt': 365,\n",
              " 'gives': 366,\n",
              " 'often': 367,\n",
              " 'early': 368,\n",
              " 'perfect': 369,\n",
              " 'face': 370,\n",
              " 'small': 371,\n",
              " 'dialogue': 372,\n",
              " 'person': 373,\n",
              " 'finally': 374,\n",
              " 'certainly': 375,\n",
              " 'liked': 376,\n",
              " 'piece': 377,\n",
              " 'went': 378,\n",
              " 'lines': 379,\n",
              " 'absolutely': 380,\n",
              " 'stars': 381,\n",
              " 'guys': 382,\n",
              " 'sort': 383,\n",
              " 'case': 384,\n",
              " 'become': 385,\n",
              " 'head': 386,\n",
              " 'title': 387,\n",
              " 'several': 388,\n",
              " 'loved': 389,\n",
              " 'hope': 390,\n",
              " 'style': 391,\n",
              " 'supposed': 392,\n",
              " 'written': 393,\n",
              " 'felt': 394,\n",
              " 'lost': 395,\n",
              " 'entire': 396,\n",
              " 'yes': 397,\n",
              " 'mother': 398,\n",
              " 'overall': 399,\n",
              " 'totally': 400,\n",
              " 'against': 401,\n",
              " 'entertaining': 402,\n",
              " 'laugh': 403,\n",
              " 'sound': 404,\n",
              " 'problem': 405,\n",
              " 'picture': 406,\n",
              " 'friend': 407,\n",
              " 'based': 408,\n",
              " 'worse': 409,\n",
              " 'waste': 410,\n",
              " 'boy': 411,\n",
              " 'live': 412,\n",
              " 'shes': 413,\n",
              " 'seemed': 414,\n",
              " 'beginning': 415,\n",
              " 'dark': 416,\n",
              " 'wanted': 417,\n",
              " 'cinema': 418,\n",
              " 'humor': 419,\n",
              " 'care': 420,\n",
              " 'youll': 421,\n",
              " 'becomes': 422,\n",
              " 'evil': 423,\n",
              " 'lead': 424,\n",
              " 'fans': 425,\n",
              " 'despite': 426,\n",
              " 'unfortunately': 427,\n",
              " 'already': 428,\n",
              " 'final': 429,\n",
              " 'direction': 430,\n",
              " 'wont': 431,\n",
              " 'throughout': 432,\n",
              " 'called': 433,\n",
              " 'guess': 434,\n",
              " 'example': 435,\n",
              " 'turn': 436,\n",
              " 'children': 437,\n",
              " 'lives': 438,\n",
              " 'able': 439,\n",
              " 'low': 440,\n",
              " 'drama': 441,\n",
              " 'wants': 442,\n",
              " 'game': 443,\n",
              " 'days': 444,\n",
              " 'quality': 445,\n",
              " 'girls': 446,\n",
              " 'fine': 447,\n",
              " 'kill': 448,\n",
              " 'horrible': 449,\n",
              " 'white': 450,\n",
              " 'writing': 451,\n",
              " 'under': 452,\n",
              " 'tries': 453,\n",
              " 'theyre': 454,\n",
              " 'turns': 455,\n",
              " 'history': 456,\n",
              " 'act': 457,\n",
              " 'enjoyed': 458,\n",
              " 'amazing': 459,\n",
              " 'gave': 460,\n",
              " 'michael': 461,\n",
              " 'favorite': 462,\n",
              " 'works': 463,\n",
              " 'behind': 464,\n",
              " 'son': 465,\n",
              " 'killer': 466,\n",
              " 'expect': 467,\n",
              " 'flick': 468,\n",
              " 'side': 469,\n",
              " 'parts': 470,\n",
              " 'past': 471,\n",
              " 'starts': 472,\n",
              " 'matter': 473,\n",
              " 'run': 474,\n",
              " 'brilliant': 475,\n",
              " 'eyes': 476,\n",
              " 'obviously': 477,\n",
              " 'car': 478,\n",
              " 'ones': 479,\n",
              " 'directed': 480,\n",
              " 'killed': 481,\n",
              " 'myself': 482,\n",
              " 'sometimes': 483,\n",
              " 'group': 484,\n",
              " 'thinking': 485,\n",
              " 'stuff': 486,\n",
              " 'says': 487,\n",
              " 'town': 488,\n",
              " 'art': 489,\n",
              " 'highly': 490,\n",
              " 'took': 491,\n",
              " 'viewer': 492,\n",
              " 'decent': 493,\n",
              " 'heard': 494,\n",
              " 'heart': 495,\n",
              " 'soon': 496,\n",
              " 'actress': 497,\n",
              " 'except': 498,\n",
              " 'city': 499,\n",
              " 'kid': 500,\n",
              " 'ill': 501,\n",
              " 'late': 502,\n",
              " 'happens': 503,\n",
              " 'wouldnt': 504,\n",
              " 'feeling': 505,\n",
              " 'genre': 506,\n",
              " 'hell': 507,\n",
              " 'child': 508,\n",
              " 'extremely': 509,\n",
              " 'told': 510,\n",
              " 'coming': 511,\n",
              " 'cannot': 512,\n",
              " 'close': 513,\n",
              " 'leave': 514,\n",
              " 'fight': 515,\n",
              " 'police': 516,\n",
              " 'lack': 517,\n",
              " 'blood': 518,\n",
              " 'etc': 519,\n",
              " 'wonder': 520,\n",
              " 'anyway': 521,\n",
              " 'save': 522,\n",
              " 'hour': 523,\n",
              " 'including': 524,\n",
              " 'looked': 525,\n",
              " 'particularly': 526,\n",
              " 'hand': 527,\n",
              " 'moment': 528,\n",
              " 'stories': 529,\n",
              " 'involved': 530,\n",
              " 'happen': 531,\n",
              " 'daughter': 532,\n",
              " 'shown': 533,\n",
              " 'experience': 534,\n",
              " 'obvious': 535,\n",
              " 'score': 536,\n",
              " 'strong': 537,\n",
              " 'violence': 538,\n",
              " 'simple': 539,\n",
              " 'complete': 540,\n",
              " 'hilarious': 541,\n",
              " 'opening': 542,\n",
              " 'chance': 543,\n",
              " 'type': 544,\n",
              " 'attempt': 545,\n",
              " 'itbr': 546,\n",
              " 'serious': 547,\n",
              " 'robert': 548,\n",
              " 'taken': 549,\n",
              " 'stop': 550,\n",
              " 'cool': 551,\n",
              " 'living': 552,\n",
              " 'happened': 553,\n",
              " 'please': 554,\n",
              " 'god': 555,\n",
              " 'james': 556,\n",
              " 'across': 557,\n",
              " 'roles': 558,\n",
              " 'murder': 559,\n",
              " 'ago': 560,\n",
              " 'voice': 561,\n",
              " 'number': 562,\n",
              " 'david': 563,\n",
              " 'song': 564,\n",
              " 'known': 565,\n",
              " 'lets': 566,\n",
              " 'saying': 567,\n",
              " 'order': 568,\n",
              " 'slow': 569,\n",
              " 'seriously': 570,\n",
              " 'exactly': 571,\n",
              " 'huge': 572,\n",
              " 'english': 573,\n",
              " 'crap': 574,\n",
              " 'wish': 575,\n",
              " 'possible': 576,\n",
              " 'jokes': 577,\n",
              " 'interest': 578,\n",
              " 'usually': 579,\n",
              " 'hours': 580,\n",
              " 'none': 581,\n",
              " 'sad': 582,\n",
              " 'major': 583,\n",
              " 'whose': 584,\n",
              " 'started': 585,\n",
              " 'talent': 586,\n",
              " 'ridiculous': 587,\n",
              " 'reality': 588,\n",
              " 'hit': 589,\n",
              " 'cinematography': 590,\n",
              " 'alone': 591,\n",
              " 'gore': 592,\n",
              " 'released': 593,\n",
              " 'running': 594,\n",
              " 'call': 595,\n",
              " 'cut': 596,\n",
              " 'yourself': 597,\n",
              " 'female': 598,\n",
              " 'change': 599,\n",
              " 'career': 600,\n",
              " 'shots': 601,\n",
              " 'mostly': 602,\n",
              " 'age': 603,\n",
              " 'power': 604,\n",
              " 'relationship': 605,\n",
              " 'important': 606,\n",
              " 'today': 607,\n",
              " 'taking': 608,\n",
              " 'knew': 609,\n",
              " 'annoying': 610,\n",
              " 'ends': 611,\n",
              " 'beyond': 612,\n",
              " 'brother': 613,\n",
              " 'turned': 614,\n",
              " 'upon': 615,\n",
              " 'basically': 616,\n",
              " 'hero': 617,\n",
              " 'documentary': 618,\n",
              " 'somewhat': 619,\n",
              " 'view': 620,\n",
              " 'body': 621,\n",
              " 'strange': 622,\n",
              " 'silly': 623,\n",
              " 'husband': 624,\n",
              " 'apparently': 625,\n",
              " 'finds': 626,\n",
              " 'words': 627,\n",
              " 'usual': 628,\n",
              " 'word': 629,\n",
              " 'opinion': 630,\n",
              " 'happy': 631,\n",
              " 'knows': 632,\n",
              " 'scary': 633,\n",
              " 'country': 634,\n",
              " 'four': 635,\n",
              " 'talking': 636,\n",
              " 'episodes': 637,\n",
              " 'due': 638,\n",
              " 'clearly': 639,\n",
              " 'novel': 640,\n",
              " 'british': 641,\n",
              " 'attention': 642,\n",
              " 'directors': 643,\n",
              " 'rating': 644,\n",
              " 'single': 645,\n",
              " 'problems': 646,\n",
              " 'disappointed': 647,\n",
              " 'whats': 648,\n",
              " 'tells': 649,\n",
              " 'cheap': 650,\n",
              " 'arent': 651,\n",
              " 'room': 652,\n",
              " 'miss': 653,\n",
              " 'modern': 654,\n",
              " 'level': 655,\n",
              " 'local': 656,\n",
              " 'musical': 657,\n",
              " 'jack': 658,\n",
              " 'add': 659,\n",
              " 'talk': 660,\n",
              " 'light': 661,\n",
              " 'sequence': 662,\n",
              " 'whether': 663,\n",
              " 'television': 664,\n",
              " 'moviebr': 665,\n",
              " 'appears': 666,\n",
              " 'predictable': 667,\n",
              " 'dialog': 668,\n",
              " 'lots': 669,\n",
              " 'events': 670,\n",
              " 'songs': 671,\n",
              " 'easily': 672,\n",
              " 'supporting': 673,\n",
              " 'giving': 674,\n",
              " 'bring': 675,\n",
              " 'havent': 676,\n",
              " 'falls': 677,\n",
              " 'review': 678,\n",
              " 'similar': 679,\n",
              " 'george': 680,\n",
              " 'sets': 681,\n",
              " 'within': 682,\n",
              " 'needs': 683,\n",
              " 'storyline': 684,\n",
              " 'french': 685,\n",
              " 'enjoyable': 686,\n",
              " 'showing': 687,\n",
              " 'bunch': 688,\n",
              " 'mention': 689,\n",
              " 'tried': 690,\n",
              " 'moving': 691,\n",
              " 'above': 692,\n",
              " 'five': 693,\n",
              " 'parents': 694,\n",
              " 'hate': 695,\n",
              " 'soundtrack': 696,\n",
              " 'dull': 697,\n",
              " 'team': 698,\n",
              " 'surprised': 699,\n",
              " 'ten': 700,\n",
              " 'future': 701,\n",
              " 'middle': 702,\n",
              " 'earth': 703,\n",
              " 'space': 704,\n",
              " 'romantic': 705,\n",
              " 'entertainment': 706,\n",
              " 'certain': 707,\n",
              " 'comic': 708,\n",
              " 'viewers': 709,\n",
              " 'stay': 710,\n",
              " 'filmed': 711,\n",
              " 'filmbr': 712,\n",
              " 'sorry': 713,\n",
              " 'clear': 714,\n",
              " 'theme': 715,\n",
              " 'feels': 716,\n",
              " 'named': 717,\n",
              " 'typical': 718,\n",
              " 'fall': 719,\n",
              " 'comments': 720,\n",
              " 'among': 721,\n",
              " 'effort': 722,\n",
              " 'message': 723,\n",
              " 'using': 724,\n",
              " 'sequel': 725,\n",
              " 'working': 726,\n",
              " 'thriller': 727,\n",
              " 'king': 728,\n",
              " 'greatest': 729,\n",
              " 'elements': 730,\n",
              " 'subject': 731,\n",
              " 'easy': 732,\n",
              " 'ways': 733,\n",
              " 'kept': 734,\n",
              " 'theater': 735,\n",
              " 'tale': 736,\n",
              " 'near': 737,\n",
              " 'buy': 738,\n",
              " 'writer': 739,\n",
              " 'nearly': 740,\n",
              " 'straight': 741,\n",
              " 'release': 742,\n",
              " 'richard': 743,\n",
              " 'means': 744,\n",
              " 'brought': 745,\n",
              " 'peter': 746,\n",
              " 'youve': 747,\n",
              " 'imagine': 748,\n",
              " 'doubt': 749,\n",
              " 'realistic': 750,\n",
              " 'gone': 751,\n",
              " 'sister': 752,\n",
              " 'famous': 753,\n",
              " 'actual': 754,\n",
              " 'deal': 755,\n",
              " 'monster': 756,\n",
              " 'suspense': 757,\n",
              " 'general': 758,\n",
              " 'boys': 759,\n",
              " 'fantastic': 760,\n",
              " 'avoid': 761,\n",
              " 'herself': 762,\n",
              " 'forget': 763,\n",
              " 'points': 764,\n",
              " 'editing': 765,\n",
              " 'okay': 766,\n",
              " 'die': 767,\n",
              " 'lady': 768,\n",
              " 'somehow': 769,\n",
              " 'move': 770,\n",
              " 'class': 771,\n",
              " 'material': 772,\n",
              " 'reviews': 773,\n",
              " 'check': 774,\n",
              " 'feature': 775,\n",
              " 'leads': 776,\n",
              " 'learn': 777,\n",
              " 'viewing': 778,\n",
              " 'begins': 779,\n",
              " 'particular': 780,\n",
              " 'hear': 781,\n",
              " 'mystery': 782,\n",
              " 'form': 783,\n",
              " 'rent': 784,\n",
              " 'dog': 785,\n",
              " 'sequences': 786,\n",
              " 'period': 787,\n",
              " 'killing': 788,\n",
              " 'rock': 789,\n",
              " 'figure': 790,\n",
              " 'expected': 791,\n",
              " 'eventually': 792,\n",
              " 'animation': 793,\n",
              " 'sit': 794,\n",
              " 'crime': 795,\n",
              " 'believable': 796,\n",
              " 'whos': 797,\n",
              " 'eye': 798,\n",
              " 'deep': 799,\n",
              " 'decided': 800,\n",
              " 'weak': 801,\n",
              " 'premise': 802,\n",
              " 'follow': 803,\n",
              " 'tom': 804,\n",
              " 'fast': 805,\n",
              " 'forced': 806,\n",
              " 'surprise': 807,\n",
              " 'shame': 808,\n",
              " 'indeed': 809,\n",
              " 'whatever': 810,\n",
              " 'atmosphere': 811,\n",
              " 'paul': 812,\n",
              " 'wait': 813,\n",
              " 'became': 814,\n",
              " 'season': 815,\n",
              " 'red': 816,\n",
              " 'average': 817,\n",
              " 'york': 818,\n",
              " 'emotional': 819,\n",
              " 'lame': 820,\n",
              " 'crew': 821,\n",
              " 'possibly': 822,\n",
              " 'stand': 823,\n",
              " 'dance': 824,\n",
              " 'poorly': 825,\n",
              " 'memorable': 826,\n",
              " 'scifi': 827,\n",
              " 'writers': 828,\n",
              " 'open': 829,\n",
              " 'doctor': 830,\n",
              " 'situation': 831,\n",
              " 'leaves': 832,\n",
              " 'truth': 833,\n",
              " 'difficult': 834,\n",
              " 'cheesy': 835,\n",
              " 'write': 836,\n",
              " 'begin': 837,\n",
              " 'meet': 838,\n",
              " 'third': 839,\n",
              " 'question': 840,\n",
              " 'unless': 841,\n",
              " 'sexual': 842,\n",
              " 'credits': 843,\n",
              " 'previous': 844,\n",
              " 'needed': 845,\n",
              " 'reading': 846,\n",
              " 'meets': 847,\n",
              " 'interested': 848,\n",
              " 'romance': 849,\n",
              " 'otherwise': 850,\n",
              " 'minute': 851,\n",
              " 'footage': 852,\n",
              " 'male': 853,\n",
              " 'superb': 854,\n",
              " 'western': 855,\n",
              " 'note': 856,\n",
              " 'filmmakers': 857,\n",
              " 'nor': 858,\n",
              " 'beauty': 859,\n",
              " 'personal': 860,\n",
              " 'battle': 861,\n",
              " 'japanese': 862,\n",
              " 'oscar': 863,\n",
              " 'hot': 864,\n",
              " 'total': 865,\n",
              " 'whom': 866,\n",
              " 'sounds': 867,\n",
              " 'keeps': 868,\n",
              " 'incredibly': 869,\n",
              " 'nature': 870,\n",
              " 'hands': 871,\n",
              " 'box': 872,\n",
              " 'badly': 873,\n",
              " 'towards': 874,\n",
              " 'society': 875,\n",
              " 'inside': 876,\n",
              " 'imdb': 877,\n",
              " 'realize': 878,\n",
              " 'screenplay': 879,\n",
              " 'perfectly': 880,\n",
              " 'unique': 881,\n",
              " 'quickly': 882,\n",
              " 'copy': 883,\n",
              " 'effect': 884,\n",
              " 'plus': 885,\n",
              " 'result': 886,\n",
              " 'weird': 887,\n",
              " 'island': 888,\n",
              " 'free': 889,\n",
              " 'laughs': 890,\n",
              " 'following': 891,\n",
              " 'features': 892,\n",
              " 'admit': 893,\n",
              " 'street': 894,\n",
              " 'earlier': 895,\n",
              " 'worked': 896,\n",
              " 'gay': 897,\n",
              " 'plenty': 898,\n",
              " 'comment': 899,\n",
              " 'stage': 900,\n",
              " 'air': 901,\n",
              " 'appear': 902,\n",
              " 'ask': 903,\n",
              " 'america': 904,\n",
              " 'powerful': 905,\n",
              " 'brings': 906,\n",
              " 'various': 907,\n",
              " 'background': 908,\n",
              " 'setting': 909,\n",
              " 'fairly': 910,\n",
              " 'masterpiece': 911,\n",
              " 'development': 912,\n",
              " 'older': 913,\n",
              " 'attempts': 914,\n",
              " 'apart': 915,\n",
              " 'dumb': 916,\n",
              " 'crazy': 917,\n",
              " 'directing': 918,\n",
              " 'creepy': 919,\n",
              " 'lee': 920,\n",
              " 'dramatic': 921,\n",
              " 'front': 922,\n",
              " 'portrayed': 923,\n",
              " 'forward': 924,\n",
              " 'water': 925,\n",
              " 'mark': 926,\n",
              " 'bill': 927,\n",
              " 'baby': 928,\n",
              " 'spent': 929,\n",
              " 'meant': 930,\n",
              " 'mess': 931,\n",
              " 'political': 932,\n",
              " 'manages': 933,\n",
              " 'fails': 934,\n",
              " 'outside': 935,\n",
              " 'agree': 936,\n",
              " 'joe': 937,\n",
              " 'acted': 938,\n",
              " 'deserves': 939,\n",
              " 'remake': 940,\n",
              " 'pay': 941,\n",
              " 'cover': 942,\n",
              " 'wasted': 943,\n",
              " 'leading': 944,\n",
              " 'plain': 945,\n",
              " 'recently': 946,\n",
              " 'missing': 947,\n",
              " 'business': 948,\n",
              " 'expecting': 949,\n",
              " 'present': 950,\n",
              " 'fire': 951,\n",
              " 'reasons': 952,\n",
              " 'ideas': 953,\n",
              " 'girlfriend': 954,\n",
              " 'party': 955,\n",
              " 'create': 956,\n",
              " 'rich': 957,\n",
              " 'return': 958,\n",
              " 'large': 959,\n",
              " 'secret': 960,\n",
              " 'laughing': 961,\n",
              " 'unlike': 962,\n",
              " 'twist': 963,\n",
              " 'fighting': 964,\n",
              " 'gun': 965,\n",
              " 'william': 966,\n",
              " 'joke': 967,\n",
              " 'caught': 968,\n",
              " 'brothers': 969,\n",
              " 'cute': 970,\n",
              " 'success': 971,\n",
              " 'telling': 972,\n",
              " 'clever': 973,\n",
              " 'pure': 974,\n",
              " 'hardly': 975,\n",
              " 'cop': 976,\n",
              " 'german': 977,\n",
              " 'potential': 978,\n",
              " 'waiting': 979,\n",
              " 'talented': 980,\n",
              " 'dream': 981,\n",
              " 'missed': 982,\n",
              " 'members': 983,\n",
              " 'odd': 984,\n",
              " 'sees': 985,\n",
              " 'casting': 986,\n",
              " 'visual': 987,\n",
              " 'match': 988,\n",
              " 'break': 989,\n",
              " 'nudity': 990,\n",
              " 'uses': 991,\n",
              " 'zombie': 992,\n",
              " 'ended': 993,\n",
              " 'cartoon': 994,\n",
              " 'escape': 995,\n",
              " 'cause': 996,\n",
              " 'further': 997,\n",
              " 'slightly': 998,\n",
              " 'amount': 999,\n",
              " 'decides': 1000,\n",
              " ...}"
            ]
          },
          "metadata": {},
          "execution_count": 43
        }
      ]
    },
    {
      "cell_type": "code",
      "metadata": {
        "id": "LwycdWwzNWey"
      },
      "source": [
        "#  Encode sequences\n",
        "train_encoded = tok.texts_to_sequences(X_train)\n",
        "\n",
        "#  Ensure that all reviews have the same lenght\n",
        "max_len = 1000\n",
        "train_padded = pad_sequences(train_encoded, maxlen = max_len, truncating = 'post', padding = 'post')\n",
        "vocab_size = len(tok.word_index) + 1"
      ],
      "execution_count": 44,
      "outputs": []
    },
    {
      "cell_type": "code",
      "metadata": {
        "colab": {
          "base_uri": "https://localhost:8080/"
        },
        "id": "VipfCk9ILm78",
        "outputId": "0028979b-1741-4e72-8965-0b2bfc8e104b"
      },
      "source": [
        "print(train_padded)\n",
        "print(\"\\nShape:\", train_padded.shape)"
      ],
      "execution_count": 45,
      "outputs": [
        {
          "output_type": "stream",
          "name": "stdout",
          "text": [
            "[[ 245    4    9 ...    0    0    0]\n",
            " [   4    9  206 ...    0    0    0]\n",
            " [   4  324  276 ...    0    0    0]\n",
            " ...\n",
            " [ 114   41   88 ...    0    0    0]\n",
            " [   4    9    6 ...    0    0    0]\n",
            " [   2  251 3567 ...    0    0    0]]\n",
            "\n",
            "Shape: (40500, 1000)\n"
          ]
        }
      ]
    },
    {
      "cell_type": "markdown",
      "metadata": {
        "id": "V05SBg4tLFRU"
      },
      "source": [
        "###***Load Val_Set***"
      ]
    },
    {
      "cell_type": "code",
      "metadata": {
        "id": "jLYDDhs_LEN5"
      },
      "source": [
        "val_set = np.load('data/Val_Set.npz')\n",
        "X_val = val_set['x']\n",
        "Y_val = val_set['y']\n",
        "\n",
        "#  Encode sequences\n",
        "val_encoded = tok.texts_to_sequences(X_val)\n",
        "val_padded = pad_sequences(val_encoded, maxlen = max_len, truncating = 'post', padding = 'post')"
      ],
      "execution_count": 46,
      "outputs": []
    },
    {
      "cell_type": "markdown",
      "metadata": {
        "id": "Wv-LQKfBZfPt"
      },
      "source": [
        "#### *Convolutional Neural Network to define model (Conv1D layer)*\n",
        "![CNN for NLP.png](data:image/png;base64,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)"
      ]
    },
    {
      "cell_type": "markdown",
      "metadata": {
        "id": "x2mawZNFWoE5"
      },
      "source": [
        "$=>$ We use Convolutional Model to learn extract salients features from documents"
      ]
    },
    {
      "cell_type": "code",
      "metadata": {
        "colab": {
          "base_uri": "https://localhost:8080/"
        },
        "id": "D3Sol0kYHrtG",
        "outputId": "4106747e-414f-4ef2-bfaf-5f6cd2f9a0a5"
      },
      "source": [
        "model = Sequential()\n",
        "model.add(Embedding(vocab_size, 128, input_length = max_len))\n",
        "model.add(Conv1D(filters = 128, kernel_size = 5, activation = 'relu', kernel_regularizer = l2(0.0001)))\n",
        "model.add(MaxPooling1D(pool_size = 2))\n",
        "model.add(Flatten())\n",
        "model.add(Dense(32, activation = 'tanh'))\n",
        "model.add(Dropout(0.4))\n",
        "model.add(Dense(1, activation = 'sigmoid'))\n",
        "model.summary()"
      ],
      "execution_count": 47,
      "outputs": [
        {
          "output_type": "stream",
          "name": "stdout",
          "text": [
            "Model: \"sequential\"\n",
            "_________________________________________________________________\n",
            "Layer (type)                 Output Shape              Param #   \n",
            "=================================================================\n",
            "embedding (Embedding)        (None, 1000, 128)         6922112   \n",
            "_________________________________________________________________\n",
            "conv1d (Conv1D)              (None, 996, 128)          82048     \n",
            "_________________________________________________________________\n",
            "max_pooling1d (MaxPooling1D) (None, 498, 128)          0         \n",
            "_________________________________________________________________\n",
            "flatten (Flatten)            (None, 63744)             0         \n",
            "_________________________________________________________________\n",
            "dense (Dense)                (None, 32)                2039840   \n",
            "_________________________________________________________________\n",
            "dropout (Dropout)            (None, 32)                0         \n",
            "_________________________________________________________________\n",
            "dense_1 (Dense)              (None, 1)                 33        \n",
            "=================================================================\n",
            "Total params: 9,044,033\n",
            "Trainable params: 9,044,033\n",
            "Non-trainable params: 0\n",
            "_________________________________________________________________\n"
          ]
        }
      ]
    },
    {
      "cell_type": "code",
      "metadata": {
        "id": "HPbEXgBUAsLB"
      },
      "source": [
        "# Compiling\n",
        "model.compile(optimizer = \"RMSprop\", loss = 'binary_crossentropy', metrics = ['acc'])"
      ],
      "execution_count": 48,
      "outputs": []
    },
    {
      "cell_type": "markdown",
      "metadata": {
        "id": "rXoBsorNbSFQ"
      },
      "source": [
        "### ***Training***"
      ]
    },
    {
      "cell_type": "code",
      "metadata": {
        "colab": {
          "base_uri": "https://localhost:8080/"
        },
        "id": "zgA6_HIpHl4y",
        "outputId": "c51d2e1f-028f-4d59-9a02-36f76449d9a3"
      },
      "source": [
        "# Fit to network\n",
        "H = model.fit(train_padded, Y_train, epochs = 3, batch_size = 64, validation_data = (val_padded, Y_val))"
      ],
      "execution_count": null,
      "outputs": [
        {
          "name": "stdout",
          "output_type": "stream",
          "text": [
            "Epoch 1/3\n",
            "633/633 [==============================] - 31s 47ms/step - loss: 0.4623 - acc: 0.7722 - val_loss: 0.2428 - val_acc: 0.9050\n",
            "Epoch 2/3\n",
            "633/633 [==============================] - 29s 46ms/step - loss: 0.1851 - acc: 0.9353 - val_loss: 0.2629 - val_acc: 0.9036\n",
            "Epoch 3/3\n",
            "633/633 [==============================] - 29s 45ms/step - loss: 0.1207 - acc: 0.9632 - val_loss: 0.2850 - val_acc: 0.9068\n"
          ]
        }
      ]
    },
    {
      "cell_type": "code",
      "metadata": {
        "colab": {
          "base_uri": "https://localhost:8080/",
          "height": 266
        },
        "id": "b6WXxdmgpmT3",
        "outputId": "7e839968-85f6-479b-ddb6-c3cc45862297"
      },
      "source": [
        "plt.plot(H.history['acc'], label = 'train_acc')\n",
        "plt.plot(H.history['loss'], label = 'train_loss')\n",
        "plt.plot(H.history['val_acc'], label = 'test_acc')\n",
        "plt.plot(H.history['val_loss'], label = 'test_loss')\n",
        "plt.legend();"
      ],
      "execution_count": null,
      "outputs": [
        {
          "data": {
            "image/png": "[encoded data removed]",
            "text/plain": [
              "<Figure size 432x288 with 1 Axes>"
            ]
          },
          "metadata": {
            "tags": []
          },
          "output_type": "display_data"
        }
      ]
    },
    {
      "cell_type": "code",
      "metadata": {
        "id": "NaIpWBq5xON1"
      },
      "source": [
        "model.save(\"my_model/MODEL.h5\")"
      ],
      "execution_count": 56,
      "outputs": []
    },
    {
      "cell_type": "markdown",
      "metadata": {
        "id": "HR3c7_AI3reF"
      },
      "source": [
        "### ***Evaluating***"
      ]
    },
    {
      "cell_type": "code",
      "metadata": {
        "id": "oEFAF46bR2tZ"
      },
      "source": [
        "#   Load model\n",
        "model = load_model('my_model/MODEL.h5')"
      ],
      "execution_count": 57,
      "outputs": []
    },
    {
      "cell_type": "code",
      "metadata": {
        "id": "lwNYtMbmvXzl"
      },
      "source": [
        "#   Load Test_Set\n",
        "test_set = np.load('data/Test_Set.npz')\n",
        "X_test = test_set['x']\n",
        "Y_test = test_set['y']\n",
        "\n",
        "#   Encode and padding the TestSet for evaluate procedure\n",
        "test_encoded = tok.texts_to_sequences(X_test)\n",
        "test_padded = pad_sequences(test_encoded, maxlen = max_len, padding = 'post')"
      ],
      "execution_count": 53,
      "outputs": []
    },
    {
      "cell_type": "code",
      "metadata": {
        "colab": {
          "base_uri": "https://localhost:8080/"
        },
        "id": "Egumq4-_R9O3",
        "outputId": "eb58c9a7-1a65-487d-893f-02f01f205384"
      },
      "source": [
        "pred = model.predict(test_padded)\n",
        "print('Number of positive reviews are predicted:', np.sum(pred > 0.5))\n",
        "print('Number of negative reviews are predicted:', np.sum(pred < 0.5))"
      ],
      "execution_count": 58,
      "outputs": [
        {
          "output_type": "stream",
          "name": "stdout",
          "text": [
            "Number of positive reviews are predicted: 2153\n",
            "Number of negative reviews are predicted: 2347\n"
          ]
        }
      ]
    },
    {
      "cell_type": "code",
      "metadata": {
        "colab": {
          "base_uri": "https://localhost:8080/"
        },
        "id": "ZV27QMRPL3mv",
        "outputId": "759077c5-19e9-43ae-dc7d-3cb15f36734b"
      },
      "source": [
        "print(\"Number of real positive review:\", np.sum(Y_test == 1))\n",
        "print(\"Number of real negative review:\", np.sum(Y_test == 0))"
      ],
      "execution_count": null,
      "outputs": [
        {
          "name": "stdout",
          "output_type": "stream",
          "text": [
            "Number of real positive review: 2274\n",
            "Number of real negative review: 2226\n"
          ]
        }
      ]
    },
    {
      "cell_type": "code",
      "metadata": {
        "colab": {
          "base_uri": "https://localhost:8080/"
        },
        "id": "c5hSVqqrSaGj",
        "outputId": "7ae80d28-3cde-4144-8f4f-4fb68b1e226e"
      },
      "source": [
        "# Evaluation\n",
        "score = model.evaluate(test_padded, Y_test, verbose = 0)\n",
        "print(f'Test Accuracy: {round(score[1] * 100, 2)}%')\n",
        "print(f'Test Loss: {round(score[0] * 100, 2)}%') "
      ],
      "execution_count": 59,
      "outputs": [
        {
          "output_type": "stream",
          "name": "stdout",
          "text": [
            "Test Accuracy: 90.47%\n",
            "Test Loss: 28.42%\n"
          ]
        }
      ]
    },
    {
      "cell_type": "code",
      "metadata": {
        "colab": {
          "base_uri": "https://localhost:8080/",
          "height": 508
        },
        "id": "SFhY6goUWytY",
        "outputId": "cb8cfc6f-d238-4adc-d535-07bd2a09d810"
      },
      "source": [
        "#   Plot histogram \n",
        "\n",
        "pos_pred = []\n",
        "neg_pred = []\n",
        "for i in range(len(pred)):\n",
        "  if pred[i][0] > 0.5:\n",
        "    pos_pred.append(pred[i][0])\n",
        "  else:\n",
        "    neg_pred.append(pred[i][0])\n",
        "\n",
        "plt.figure(figsize = (17, 8))\n",
        "plt.subplot(1, 2, 1)\n",
        "plt.hist(neg_pred, bins = 15)\n",
        "plt.title('Histogram of Negative review')\n",
        "plt.xlabel('Probability')\n",
        "plt.ylabel('Number of Negative review')\n",
        "plt.subplot(1, 2, 2)\n",
        "plt.hist(pos_pred, bins = 15)\n",
        "plt.title('Histogram of Positive review')\n",
        "plt.xlabel('Probability')\n",
        "plt.ylabel('Number of Positive review');"
      ],
      "execution_count": null,
      "outputs": [
        {
          "data": {
            "image/png": "[encoded data removed]",
            "text/plain": [
              "<Figure size 1224x576 with 2 Axes>"
            ]
          },
          "metadata": {
            "tags": []
          },
          "output_type": "display_data"
        }
      ]
    },
    {
      "cell_type": "markdown",
      "metadata": {
        "id": "OPnUVmYPOeD1"
      },
      "source": [
        "### ***Predicting on raw text***"
      ]
    },
    {
      "cell_type": "code",
      "metadata": {
        "id": "Q-1BrjZ5seIg"
      },
      "source": [
        "review = ['This was an awesome movie. I watch it twice my time watching this beautiful movie if I have known it was this good',\n",
        "          'One of the worst movies of all time. I cannot believe I wasted two hours of my life for this movie']          \n",
        "encode = tok.texts_to_sequences(review)\n",
        "padd = pad_sequences(encode, maxlen = max_len, truncating = 'post', padding = 'post')\n",
        "pred = model.predict(padd)"
      ],
      "execution_count": 61,
      "outputs": []
    },
    {
      "cell_type": "code",
      "metadata": {
        "colab": {
          "base_uri": "https://localhost:8080/"
        },
        "id": "yyYYBWHGVvcK",
        "outputId": "7a2d6d41-bf9f-4a0c-cafc-548750c8276c"
      },
      "source": [
        "pred"
      ],
      "execution_count": 76,
      "outputs": [
        {
          "output_type": "execute_result",
          "data": {
            "text/plain": [
              "array([[0.9345969 ],\n",
              "       [0.01385404]], dtype=float32)"
            ]
          },
          "metadata": {},
          "execution_count": 76
        }
      ]
    },
    {
      "cell_type": "code",
      "metadata": {
        "colab": {
          "base_uri": "https://localhost:8080/",
          "height": 289
        },
        "id": "3UrgWgoIPgPk",
        "outputId": "d9a4cc8a-0229-479d-ed36-3bdda09b630d"
      },
      "source": [
        "pred_df = pd.DataFrame({\"class name\": ['positive', 'negative'], \"values\": (pred[0, 0], pred[1, 0])})\n",
        "#   Visualizing predicted result\n",
        "colors = ['yellow', 'red']\n",
        "sns.barplot(data = pred_df, x = 'values', y = 'class name', palette = colors)\n",
        "plt.xlabel('probability')\n",
        "plt.ylabel('sentiment')\n",
        "plt.xlim([0, 1]);"
      ],
      "execution_count": 80,
      "outputs": [
        {
          "output_type": "display_data",
          "data": {
            "image/png": "[encoded data removed]",
            "text/plain": [
              "<Figure size 432x288 with 1 Axes>"
            ]
          },
          "metadata": {}
        }
      ]
    },
    {
      "cell_type": "markdown",
      "metadata": {
        "id": "tahlNo-HcvXI"
      },
      "source": [
        "# ***II. Pre-trained GloVe Embedding***"
      ]
    },
    {
      "cell_type": "code",
      "metadata": {
        "id": "ATL1nmWbch9t"
      },
      "source": [
        "#   Load pre-trained embedding vectors and add to dict()\n",
        "word_embeds = dict()\n",
        "f = open(\"glove.6B/glove.6B.100d.txt\")\n",
        "for line in f:\n",
        "    values = line.split()\n",
        "    word = values[0]\n",
        "    coefs = np.asarray(values[1:], dtype = \"float32\")\n",
        "    word_embeds[word] = coefs\n",
        "f.close()"
      ],
      "execution_count": null,
      "outputs": []
    },
    {
      "cell_type": "code",
      "metadata": {
        "colab": {
          "base_uri": "https://localhost:8080/"
        },
        "id": "JYKuF1xWbdvw",
        "outputId": "d61cd3e4-75f4-40aa-ca06-83a472a05eb9"
      },
      "source": [
        "dict(itertools.islice(word_embeds.items(), 2))"
      ],
      "execution_count": null,
      "outputs": [
        {
          "data": {
            "text/plain": [
              "{',': array([-0.10767  ,  0.11053  ,  0.59812  , -0.54361  ,  0.67396  ,\n",
              "         0.10663  ,  0.038867 ,  0.35481  ,  0.06351  , -0.094189 ,\n",
              "         0.15786  , -0.81665  ,  0.14172  ,  0.21939  ,  0.58505  ,\n",
              "        -0.52158  ,  0.22783  , -0.16642  , -0.68228  ,  0.3587   ,\n",
              "         0.42568  ,  0.19021  ,  0.91963  ,  0.57555  ,  0.46185  ,\n",
              "         0.42363  , -0.095399 , -0.42749  , -0.16567  , -0.056842 ,\n",
              "        -0.29595  ,  0.26037  , -0.26606  , -0.070404 , -0.27662  ,\n",
              "         0.15821  ,  0.69825  ,  0.43081  ,  0.27952  , -0.45437  ,\n",
              "        -0.33801  , -0.58184  ,  0.22364  , -0.5778   , -0.26862  ,\n",
              "        -0.20425  ,  0.56394  , -0.58524  , -0.14365  , -0.64218  ,\n",
              "         0.0054697, -0.35248  ,  0.16162  ,  1.1796   , -0.47674  ,\n",
              "        -2.7553   , -0.1321   , -0.047729 ,  1.0655   ,  1.1034   ,\n",
              "        -0.2208   ,  0.18669  ,  0.13177  ,  0.15117  ,  0.7131   ,\n",
              "        -0.35215  ,  0.91348  ,  0.61783  ,  0.70992  ,  0.23955  ,\n",
              "        -0.14571  , -0.37859  , -0.045959 , -0.47368  ,  0.2385   ,\n",
              "         0.20536  , -0.18996  ,  0.32507  , -1.1112   , -0.36341  ,\n",
              "         0.98679  , -0.084776 , -0.54008  ,  0.11726  , -1.0194   ,\n",
              "        -0.24424  ,  0.12771  ,  0.013884 ,  0.080374 , -0.35414  ,\n",
              "         0.34951  , -0.7226   ,  0.37549  ,  0.4441   , -0.99059  ,\n",
              "         0.61214  , -0.35111  , -0.83155  ,  0.45293  ,  0.082577 ],\n",
              "       dtype=float32),\n",
              " 'the': array([-0.038194, -0.24487 ,  0.72812 , -0.39961 ,  0.083172,  0.043953,\n",
              "        -0.39141 ,  0.3344  , -0.57545 ,  0.087459,  0.28787 , -0.06731 ,\n",
              "         0.30906 , -0.26384 , -0.13231 , -0.20757 ,  0.33395 , -0.33848 ,\n",
              "        -0.31743 , -0.48336 ,  0.1464  , -0.37304 ,  0.34577 ,  0.052041,\n",
              "         0.44946 , -0.46971 ,  0.02628 , -0.54155 , -0.15518 , -0.14107 ,\n",
              "        -0.039722,  0.28277 ,  0.14393 ,  0.23464 , -0.31021 ,  0.086173,\n",
              "         0.20397 ,  0.52624 ,  0.17164 , -0.082378, -0.71787 , -0.41531 ,\n",
              "         0.20335 , -0.12763 ,  0.41367 ,  0.55187 ,  0.57908 , -0.33477 ,\n",
              "        -0.36559 , -0.54857 , -0.062892,  0.26584 ,  0.30205 ,  0.99775 ,\n",
              "        -0.80481 , -3.0243  ,  0.01254 , -0.36942 ,  2.2167  ,  0.72201 ,\n",
              "        -0.24978 ,  0.92136 ,  0.034514,  0.46745 ,  1.1079  , -0.19358 ,\n",
              "        -0.074575,  0.23353 , -0.052062, -0.22044 ,  0.057162, -0.15806 ,\n",
              "        -0.30798 , -0.41625 ,  0.37972 ,  0.15006 , -0.53212 , -0.2055  ,\n",
              "        -1.2526  ,  0.071624,  0.70565 ,  0.49744 , -0.42063 ,  0.26148 ,\n",
              "        -1.538   , -0.30223 , -0.073438, -0.28312 ,  0.37104 , -0.25217 ,\n",
              "         0.016215, -0.017099, -0.38984 ,  0.87424 , -0.72569 , -0.51058 ,\n",
              "        -0.52028 , -0.1459  ,  0.8278  ,  0.27062 ], dtype=float32)}"
            ]
          },
          "execution_count": 89,
          "metadata": {},
          "output_type": "execute_result"
        }
      ]
    },
    {
      "cell_type": "code",
      "metadata": {
        "id": "vC6uXg41b6K4"
      },
      "source": [
        "#   Generate an array of embedding vectors\n",
        "embeddings_mtr = np.zeros((vocab_size, 100))\n",
        "word_vocab = []\n",
        "for word, index in tok.word_index.items():\n",
        "    embedding_vector = word_embeds.get(word)\n",
        "    word_vocab.append(word)\n",
        "    if embedding_vector is not None:\n",
        "        embeddings_mtr[index] = embedding_vector"
      ],
      "execution_count": null,
      "outputs": []
    },
    {
      "cell_type": "code",
      "metadata": {
        "id": "V5cfo0PjdgNS"
      },
      "source": [
        "#   We don't wanna update the learned word weights in this model, therefore, we set trainable = False\n",
        "emb_layer = Embedding(input_dim = vocab_size, output_dim = 100, input_length = max_len, weights = [embeddings_mtr], trainable = False)"
      ],
      "execution_count": null,
      "outputs": []
    },
    {
      "cell_type": "code",
      "metadata": {
        "colab": {
          "base_uri": "https://localhost:8080/"
        },
        "id": "EFKnTdgughea",
        "outputId": "6d9641f9-b28a-48b7-e3f9-f7f96b7a8dd6"
      },
      "source": [
        "model = Sequential()\n",
        "model.add(emb_layer)\n",
        "model.add(Flatten())\n",
        "model.add(Dense(128, activation = 'tanh'))\n",
        "model.add(Dropout(0.4))\n",
        "model.add(Dense(1, activation = 'sigmoid'))\n",
        "model.summary()"
      ],
      "execution_count": null,
      "outputs": [
        {
          "name": "stdout",
          "output_type": "stream",
          "text": [
            "Model: \"sequential_7\"\n",
            "_________________________________________________________________\n",
            "Layer (type)                 Output Shape              Param #   \n",
            "=================================================================\n",
            "embedding_2 (Embedding)      (None, 1000, 100)         5407900   \n",
            "_________________________________________________________________\n",
            "flatten_7 (Flatten)          (None, 100000)            0         \n",
            "_________________________________________________________________\n",
            "dense_9 (Dense)              (None, 128)               12800128  \n",
            "_________________________________________________________________\n",
            "dropout_2 (Dropout)          (None, 128)               0         \n",
            "_________________________________________________________________\n",
            "dense_10 (Dense)             (None, 1)                 129       \n",
            "=================================================================\n",
            "Total params: 18,208,157\n",
            "Trainable params: 12,800,257\n",
            "Non-trainable params: 5,407,900\n",
            "_________________________________________________________________\n"
          ]
        }
      ]
    },
    {
      "cell_type": "code",
      "metadata": {
        "id": "wK3xp6olhFT-"
      },
      "source": [
        "#   Compile model\n",
        "model.compile(optimizer = \"RMSprop\", loss = 'binary_crossentropy', metrics = ['acc'])"
      ],
      "execution_count": null,
      "outputs": []
    },
    {
      "cell_type": "code",
      "metadata": {
        "colab": {
          "base_uri": "https://localhost:8080/"
        },
        "id": "K9wNJrVPjGXE",
        "outputId": "b8635e68-c00f-471a-913e-1b0849dcb607"
      },
      "source": [
        "model.fit(train_padded, Y_train, epochs = 10, batch_size = 64, validation_data = (val_padded, Y_val))"
      ],
      "execution_count": null,
      "outputs": [
        {
          "name": "stdout",
          "output_type": "stream",
          "text": [
            "Epoch 1/10\n",
            "633/633 [==============================] - 9s 13ms/step - loss: 0.8682 - acc: 0.5581 - val_loss: 0.5616 - val_acc: 0.7148\n",
            "Epoch 2/10\n",
            "633/633 [==============================] - 8s 13ms/step - loss: 0.5482 - acc: 0.7217 - val_loss: 0.5276 - val_acc: 0.7414\n",
            "Epoch 3/10\n",
            "633/633 [==============================] - 8s 13ms/step - loss: 0.4861 - acc: 0.7675 - val_loss: 0.5277 - val_acc: 0.7386\n",
            "Epoch 4/10\n",
            "633/633 [==============================] - 8s 13ms/step - loss: 0.4522 - acc: 0.7907 - val_loss: 0.5022 - val_acc: 0.7528\n",
            "Epoch 5/10\n",
            "633/633 [==============================] - 8s 13ms/step - loss: 0.4266 - acc: 0.8044 - val_loss: 0.5002 - val_acc: 0.7614\n",
            "Epoch 6/10\n",
            "633/633 [==============================] - 8s 13ms/step - loss: 0.3974 - acc: 0.8219 - val_loss: 0.5057 - val_acc: 0.7610\n",
            "Epoch 7/10\n",
            "633/633 [==============================] - 8s 13ms/step - loss: 0.3782 - acc: 0.8320 - val_loss: 0.5146 - val_acc: 0.7600\n",
            "Epoch 8/10\n",
            "633/633 [==============================] - 8s 13ms/step - loss: 0.3614 - acc: 0.8407 - val_loss: 0.5428 - val_acc: 0.7424\n",
            "Epoch 9/10\n",
            "633/633 [==============================] - 8s 13ms/step - loss: 0.3431 - acc: 0.8527 - val_loss: 0.5343 - val_acc: 0.7546\n",
            "Epoch 10/10\n",
            "633/633 [==============================] - 8s 13ms/step - loss: 0.3354 - acc: 0.8517 - val_loss: 0.5343 - val_acc: 0.7636\n"
          ]
        },
        {
          "data": {
            "text/plain": [
              "<keras.callbacks.History at 0x7f278e3d1350>"
            ]
          },
          "execution_count": 82,
          "metadata": {
            "tags": []
          },
          "output_type": "execute_result"
        }
      ]
    },
    {
      "cell_type": "markdown",
      "metadata": {
        "id": "T4b9jQnr2M0u"
      },
      "source": [
        "Tuy nhiên, các mô hình kể trên có những yếu điểm riêng của nó, đặc biệt là không thể hiện được sự đại diện theo ngữ cảnh cụ thể của từ trong từng lĩnh vực hay văn cảnh cụ thể."
      ]
    },
    {
      "cell_type": "markdown",
      "metadata": {
        "id": "yPJAchWw5evy"
      },
      "source": [
        "### $=>$  ***Visualization: Glove Embedding Vector with PCA***"
      ]
    },
    {
      "cell_type": "code",
      "metadata": {
        "id": "EKR5ZimgcfY6"
      },
      "source": [
        "#   Create a 2-dimensional model of the word vectors using the sklearn PCA class\n",
        "embed = embeddings_mtr[:150]\n",
        "words = word_vocab[:150]\n",
        "from sklearn.decomposition import PCA\n",
        "pca = PCA(n_components = 2)\n",
        "result = pca.fit_transform(embed)"
      ],
      "execution_count": null,
      "outputs": []
    },
    {
      "cell_type": "code",
      "metadata": {
        "colab": {
          "base_uri": "https://localhost:8080/",
          "height": 499
        },
        "id": "h8l6HbKZ8GTr",
        "outputId": "68170713-bd97-4df0-f173-d7d52333aced"
      },
      "source": [
        "# Create a scatter plot of the projection\n",
        "plt.figure(figsize = (10, 8))\n",
        "pyplot.scatter(result[:, 0], result[:, 1])\n",
        "for i, word in enumerate(words):\n",
        "\tplt.annotate(word, xy=(result[i, 0], result[i, 1]))\n",
        "plt.title(\"Scatter plot of PCA Projection of GloVe embeddings\")\n",
        "plt.show()"
      ],
      "execution_count": null,
      "outputs": [
        {
          "data": {
            "image/png": "[encoded data removed]",
            "text/plain": [
              "<Figure size 720x576 with 1 Axes>"
            ]
          },
          "metadata": {},
          "output_type": "display_data"
        }
      ]
    },
    {
      "cell_type": "markdown",
      "metadata": {
        "id": "Q5QsKIdqnudF"
      },
      "source": [
        "# ***III. BERT for Text Classification***"
      ]
    },
    {
      "cell_type": "markdown",
      "metadata": {
        "id": "VtMGUe1Kysl7"
      },
      "source": [
        "**BERT** stands for **B**idirectional **E**ncoder **R**epresentations from **T**ransformers. \n",
        "1. BERT is based on the Transformer architecture.\n",
        "2. BERT is pre-trained on a large corpus of unlabelled tex\n",
        "3. BERT is a “deeply bidirectional” model"
      ]
    },
    {
      "cell_type": "markdown",
      "metadata": {
        "id": "3E2eouiL8syb"
      },
      "source": [
        "***BERT*** has 2 tasks: Mask Language Modeling(*MLM*) and Next Sentence Prediction(*NSP*)\n",
        "\n",
        "**1**. *Mask Language Modeling(MLM)*\n",
        "\n",
        "That's [Mask] she [Mask]  $=>$ That's what she said\n",
        "\n",
        "**2**. *Next Sentence Prediction*\n",
        "\n",
        "- Input = [CLS] That's [Mask] she [Mask]. [SEP] Hahaha, nice! [SEP]\n",
        "\n",
        "- Label = IsNext\n",
        "\n",
        "\n",
        "- Input = [CLS] That's [Mask] she [Mask]. [SEP] Dwight, you ignorant [Mask]! [SEP]\n",
        "\n",
        "- Label = NotNext\n"
      ]
    },
    {
      "cell_type": "code",
      "metadata": {
        "id": "zjUw9MCjV8WB"
      },
      "source": [
        "!pip install transformers==3.0.0"
      ],
      "execution_count": null,
      "outputs": []
    },
    {
      "cell_type": "code",
      "metadata": {
        "id": "QTEpTMdnaDMT"
      },
      "source": [
        "import transformers\n",
        "import seaborn as sns\n",
        "import re\n",
        "import torch\n",
        "from collections import defaultdict\n",
        "from torch import nn, optim\n",
        "from torch.utils.data import Dataset, DataLoader\n",
        "from transformers import DistilBertForSequenceClassification, DistilBertTokenizer, AdamW, get_linear_schedule_with_warmup\n",
        "from sklearn.metrics import confusion_matrix, classification_report"
      ],
      "execution_count": null,
      "outputs": []
    },
    {
      "cell_type": "code",
      "metadata": {
        "colab": {
          "base_uri": "https://localhost:8080/",
          "height": 203
        },
        "id": "EwNNAatm1EMK",
        "outputId": "bc8239de-e894-4ba1-8c0d-9155e896dfa1"
      },
      "source": [
        "df = pd.read_csv(\"review.csv\")\n",
        "df.head()"
      ],
      "execution_count": null,
      "outputs": [
        {
          "output_type": "execute_result",
          "data": {
            "text/html": [
              "<div>\n",
              "<style scoped>\n",
              "    .dataframe tbody tr th:only-of-type {\n",
              "        vertical-align: middle;\n",
              "    }\n",
              "\n",
              "    .dataframe tbody tr th {\n",
              "        vertical-align: top;\n",
              "    }\n",
              "\n",
              "    .dataframe thead th {\n",
              "        text-align: right;\n",
              "    }\n",
              "</style>\n",
              "<table border=\"1\" class=\"dataframe\">\n",
              "  <thead>\n",
              "    <tr style=\"text-align: right;\">\n",
              "      <th></th>\n",
              "      <th>review</th>\n",
              "      <th>sentiment</th>\n",
              "    </tr>\n",
              "  </thead>\n",
              "  <tbody>\n",
              "    <tr>\n",
              "      <th>0</th>\n",
              "      <td>One of the other reviewers has mentioned that ...</td>\n",
              "      <td>positive</td>\n",
              "    </tr>\n",
              "    <tr>\n",
              "      <th>1</th>\n",
              "      <td>A wonderful little production. &lt;br /&gt;&lt;br /&gt;The...</td>\n",
              "      <td>positive</td>\n",
              "    </tr>\n",
              "    <tr>\n",
              "      <th>2</th>\n",
              "      <td>I thought this was a wonderful way to spend ti...</td>\n",
              "      <td>positive</td>\n",
              "    </tr>\n",
              "    <tr>\n",
              "      <th>3</th>\n",
              "      <td>Basically there's a family where a little boy ...</td>\n",
              "      <td>negative</td>\n",
              "    </tr>\n",
              "    <tr>\n",
              "      <th>4</th>\n",
              "      <td>Petter Mattei's \"Love in the Time of Money\" is...</td>\n",
              "      <td>positive</td>\n",
              "    </tr>\n",
              "  </tbody>\n",
              "</table>\n",
              "</div>"
            ],
            "text/plain": [
              "                                              review sentiment\n",
              "0  One of the other reviewers has mentioned that ...  positive\n",
              "1  A wonderful little production. <br /><br />The...  positive\n",
              "2  I thought this was a wonderful way to spend ti...  positive\n",
              "3  Basically there's a family where a little boy ...  negative\n",
              "4  Petter Mattei's \"Love in the Time of Money\" is...  positive"
            ]
          },
          "metadata": {},
          "execution_count": 11
        }
      ]
    },
    {
      "cell_type": "code",
      "metadata": {
        "colab": {
          "base_uri": "https://localhost:8080/",
          "height": 289
        },
        "id": "UdSNhkj91NQ7",
        "outputId": "e889ddd3-fb33-4461-e44b-b3c9dbfddd45"
      },
      "source": [
        "#   Check wheather we have class imbalance\n",
        "sns.countplot(df.sentiment)\n",
        "plt.xlabel(\"sentiment\");"
      ],
      "execution_count": null,
      "outputs": [
        {
          "output_type": "display_data",
          "data": {
            "image/png": "[encoded data removed]",
            "text/plain": [
              "<Figure size 432x288 with 1 Axes>"
            ]
          },
          "metadata": {}
        }
      ]
    },
    {
      "cell_type": "markdown",
      "metadata": {
        "id": "C3IUQGa51vqF"
      },
      "source": [
        "$=>$ We don't have any imbalance which is perfect"
      ]
    },
    {
      "cell_type": "markdown",
      "metadata": {
        "id": "bLtGkXVXx7aR"
      },
      "source": [
        "Pre-processing"
      ]
    },
    {
      "cell_type": "code",
      "metadata": {
        "id": "OnfCnTuuXruo"
      },
      "source": [
        "#   Apply above function to every review in df\n",
        "df['review_processed'] = df['review'].apply(clean_doc)\n",
        "\n",
        "#   Also encode \"sentiment\" column: 1 for positive and 0 for negative\n",
        "df['sentiment'] = df['sentiment'].map({'positive': 1, 'negative': 0})"
      ],
      "execution_count": null,
      "outputs": []
    },
    {
      "cell_type": "code",
      "metadata": {
        "id": "HEy_y1wg9W2o",
        "colab": {
          "base_uri": "https://localhost:8080/",
          "height": 49,
          "referenced_widgets": [
            "2ddc8f7459e647fc91c017dc7e85e35e",
            "46d2bc815782426da249c87315b618e4",
            "9d08375f85b644f09d19f79d6c6938f8",
            "9f0c9dc6d253476f88719a2fa5addcd6",
            "aa91122071f6414680e2bc4f2e5dfe39",
            "4f8fea5da08447f88416c7539461be6c",
            "de88ab1c817a4bfca30760f33d30f993",
            "278adfce1e0a4472b3c13d83c94c5ce5",
            "080be1cbe96c4bbdb185b930100a8938",
            "969594dddaaa441eaceee548e15162b0",
            "ed1c84d6c93b416f9eae88cb452ef774"
          ]
        },
        "outputId": "293dc742-92b6-41ab-a272-6a2d5190d007"
      },
      "source": [
        "tokenizer = DistilBertTokenizer.from_pretrained('distilbert-base-uncased')"
      ],
      "execution_count": null,
      "outputs": [
        {
          "output_type": "display_data",
          "data": {
            "application/vnd.jupyter.widget-view+json": {
              "model_id": "2ddc8f7459e647fc91c017dc7e85e35e",
              "version_minor": 0,
              "version_major": 2
            },
            "text/plain": [
              "Downloading:   0%|          | 0.00/232k [00:00<?, ?B/s]"
            ]
          },
          "metadata": {}
        }
      ]
    },
    {
      "cell_type": "markdown",
      "metadata": {
        "id": "311JUK05NypT"
      },
      "source": [
        "***Choosing Sequence Length***"
      ]
    },
    {
      "cell_type": "code",
      "metadata": {
        "id": "yGX4Ly17CXHt"
      },
      "source": [
        "tokens_len = []\n",
        "for index, value in df['review_processed'].items():\n",
        "    tokens = tokenizer.encode(value, max_length = 800)\n",
        "    tokens_len.append(len(tokens))"
      ],
      "execution_count": null,
      "outputs": []
    },
    {
      "cell_type": "code",
      "metadata": {
        "colab": {
          "base_uri": "https://localhost:8080/",
          "height": 359
        },
        "id": "f6vJ-ViqisBM",
        "outputId": "f1615c6b-1a1c-4866-e8d9-2958fbd00e8d"
      },
      "source": [
        "sns.distplot(tokens_len);\n",
        "plt.xlabel(\"Token Count\")"
      ],
      "execution_count": null,
      "outputs": [
        {
          "output_type": "stream",
          "text": [
            "/usr/local/lib/python3.7/dist-packages/seaborn/distributions.py:2557: FutureWarning: `distplot` is a deprecated function and will be removed in a future version. Please adapt your code to use either `displot` (a figure-level function with similar flexibility) or `histplot` (an axes-level function for histograms).\n",
            "  warnings.warn(msg, FutureWarning)\n"
          ],
          "name": "stderr"
        },
        {
          "output_type": "execute_result",
          "data": {
            "text/plain": [
              "Text(0.5, 0, 'Token Count')"
            ]
          },
          "metadata": {},
          "execution_count": 72
        },
        {
          "output_type": "display_data",
          "data": {
            "image/png": "[encoded data removed]",
            "text/plain": [
              "<Figure size 432x288 with 1 Axes>"
            ]
          },
          "metadata": {}
        }
      ]
    },
    {
      "cell_type": "markdown",
      "metadata": {
        "id": "9q8aGiKepnTE"
      },
      "source": [
        "$=>$ Most of the reviews have length about 100 tokens, but we'll be on the safe side and choose a maximum length of 512."
      ]
    },
    {
      "cell_type": "markdown",
      "metadata": {
        "id": "B6DOmCDIZaKB"
      },
      "source": [
        "### Create Pytorch Dataset"
      ]
    },
    {
      "cell_type": "code",
      "metadata": {
        "id": "Rg4KLCBBZebE"
      },
      "source": [
        "class IMDB_Dataset(Dataset):\n",
        "    def __init__(self, reviews, targets, tokenizer, max_len):  \n",
        "        self.reviews = reviews\n",
        "        self.targets = targets\n",
        "        self.tokenizer = tokenizer\n",
        "        self.max_len = max_len\n",
        "        \n",
        "    def __len__(self):\n",
        "        return len(self.reviews)\n",
        "\n",
        "    def __getitem__(self, item):\n",
        "        review = str(self.reviews[item])\n",
        "        target = self.targets[item]\n",
        "        encoding = self.tokenizer.encode_plus(review, max_length = self.max_len,\n",
        "                                              add_special_tokens = True,      #  Add '[CLS]', '[PAD]' and '[SEP]'\n",
        "                                              return_token_type_ids = False,  #  Return 0 for pre_sentence, 1 for post_sentence. Since our use case deals with only one sentence as opposed to use case which use 2 sentences in single training example(for ex: Question-anwering) we can have it as False\n",
        "                                              truncation = True, padding = 'max_length',  # pad to longest sequence as defined by max_length\n",
        "                                              return_attention_mask = True,   #  Return attention mask. Attention mask indicated to the model which tokens should be attended to, and which should not.\n",
        "                                              return_tensors = 'pt')          #  Return PyTorch tensors\n",
        "      \n",
        "        return {'review_text': review,\n",
        "                'input_ids': encoding['input_ids'].flatten(),\n",
        "                'attention_mask': encoding['attention_mask'].flatten(),\n",
        "                'targets': torch.tensor(target, dtype = torch.long)}"
      ],
      "execution_count": null,
      "outputs": []
    },
    {
      "cell_type": "code",
      "metadata": {
        "id": "UxBT2Ax33vXk"
      },
      "source": [
        "X_train, X_val, Y_train, Y_val = train_test_split(df[['review']], df['sentiment'], test_size = 0.3, random_state = 42)\n",
        "df_train = pd.DataFrame({'review': X_train['review'].values, 'sentiment': Y_train.values})\n",
        "df_val = pd.DataFrame({'review': X_val['review'].values, 'sentiment': Y_val.values})\n",
        "\n",
        "X_val, X_test, Y_val, Y_test = train_test_split(df_val[['review']], df_val['sentiment'], test_size = 0.5, random_state = 42)\n",
        "df_val = pd.DataFrame({'review': X_val['review'].values, 'sentiment': Y_val.values})\n",
        "df_test = pd.DataFrame({'review': X_test['review'].values, 'sentiment': Y_test.values})\n",
        "\n",
        "print(df_train.shape, df_val.shape, df_test.shape)"
      ],
      "execution_count": null,
      "outputs": []
    },
    {
      "cell_type": "code",
      "metadata": {
        "id": "nf-6GSAPUY2t"
      },
      "source": [
        "#   Save DataFrame to file.csv\n",
        "df_train.to_csv(\"df_train.csv\", index = False)\n",
        "df_test.to_csv(\"df_test.csv\", index = False)\n",
        "df_val.to_csv(\"df_val.csv\", index = False)"
      ],
      "execution_count": null,
      "outputs": []
    },
    {
      "cell_type": "markdown",
      "metadata": {
        "id": "1K4ONYsMNCu6"
      },
      "source": [
        "### ***Create Data Generator***"
      ]
    },
    {
      "cell_type": "code",
      "metadata": {
        "id": "OwOgX91VVwQk"
      },
      "source": [
        "#   Read file.csv\n",
        "df_train = pd.read_csv(\"df_data/df_train.csv\")\n",
        "df_test = pd.read_csv(\"df_data/df_test.csv\")\n",
        "df_val = pd.read_csv(\"df_data/df_val.csv\")"
      ],
      "execution_count": null,
      "outputs": []
    },
    {
      "cell_type": "code",
      "metadata": {
        "id": "Lm7YXijkM93l"
      },
      "source": [
        "def create_data_loader(df, tokenizer, max_len, batch_size):\n",
        "    ds = IMDB_Dataset(reviews = df.review.to_numpy(),\n",
        "                      targets = df.sentiment.to_numpy(),\n",
        "                      tokenizer = tokenizer, max_len = max_len)\n",
        "    return DataLoader(ds, batch_size = batch_size, num_workers = 4)"
      ],
      "execution_count": null,
      "outputs": []
    },
    {
      "cell_type": "code",
      "metadata": {
        "id": "GYPdOHoeNRSU"
      },
      "source": [
        "#   Set batch_size\n",
        "batch_size = 16\n",
        "max_len = 512\n",
        "train_data = create_data_loader(df_train, tokenizer, max_len, batch_size)\n",
        "test_data = create_data_loader(df_test, tokenizer, max_len, batch_size)\n",
        "val_data = create_data_loader(df_val, tokenizer, max_len, batch_size)"
      ],
      "execution_count": null,
      "outputs": []
    },
    {
      "cell_type": "code",
      "metadata": {
        "colab": {
          "base_uri": "https://localhost:8080/"
        },
        "id": "C2i-xd7r9LgG",
        "outputId": "29800e23-fc2f-4071-da0f-dada06b63b15"
      },
      "source": [
        "#   Get a single batch from DataLoader without for__loop\n",
        "data = next(iter(val_data))\n",
        "print(data['input_ids'].shape)\n",
        "print(data['attention_mask'].shape)\n",
        "print(data['targets'].shape)"
      ],
      "execution_count": null,
      "outputs": [
        {
          "output_type": "stream",
          "name": "stdout",
          "text": [
            "torch.Size([16, 512])\n",
            "torch.Size([16, 512])\n",
            "torch.Size([16])\n"
          ]
        }
      ]
    },
    {
      "cell_type": "markdown",
      "metadata": {
        "id": "UJDwgzz9ItFO"
      },
      "source": [
        "### Sentiment Classification with BERT and Hugging Face"
      ]
    },
    {
      "cell_type": "code",
      "metadata": {
        "colab": {
          "base_uri": "https://localhost:8080/",
          "height": 35
        },
        "id": "_n0cztzsI1iU",
        "outputId": "3ac3a309-9e84-4dc6-d9f6-68ec68006145"
      },
      "source": [
        "#   Mount GPU to Torch\n",
        "device = torch.device('cuda:0' if torch.cuda.is_available() else 'cpu')\n",
        "# Check if Pytorch use GPU\n",
        "torch.cuda.get_device_name()"
      ],
      "execution_count": null,
      "outputs": [
        {
          "output_type": "execute_result",
          "data": {
            "application/vnd.google.colaboratory.intrinsic+json": {
              "type": "string"
            },
            "text/plain": [
              "'Tesla K80'"
            ]
          },
          "metadata": {},
          "execution_count": 27
        }
      ]
    },
    {
      "cell_type": "code",
      "metadata": {
        "id": "7gF4a8gPFAqg"
      },
      "source": [
        "#     Download BERT model\n",
        "model = DistilBertForSequenceClassification.from_pretrained(\"distilbert-base-uncased\", num_labels = 2)\n",
        "model = model.to(device)"
      ],
      "execution_count": null,
      "outputs": []
    },
    {
      "cell_type": "markdown",
      "metadata": {
        "id": "EsJ6EaB3Kf9A"
      },
      "source": [
        "###  Training"
      ]
    },
    {
      "cell_type": "code",
      "metadata": {
        "id": "UIUgsM0sKBLS"
      },
      "source": [
        "#   Setting hyperparameter\n",
        "epoches = 5\n",
        "\n",
        "total_steps = len(train_data) * epoches\n",
        "\n",
        "#   Optimizer function by using AdamW Pytorch\n",
        "optimizer = AdamW(model.parameters(), lr = 5e-5)\n",
        "\n",
        "#   Decreasing learning_rate over some epoches\n",
        "scheduler = get_linear_schedule_with_warmup(optimizer, num_warmup_steps = 0, num_training_steps = total_steps)"
      ],
      "execution_count": null,
      "outputs": []
    },
    {
      "cell_type": "markdown",
      "metadata": {
        "id": "jYF4hSIWPiCN"
      },
      "source": [
        "### Define a function to train our model on one epoch"
      ]
    },
    {
      "cell_type": "code",
      "metadata": {
        "id": "bSa6oc_jO4G0"
      },
      "source": [
        "#   Define function to train our model on one epoch\n",
        "def train_epoch(model, data_loader, optimizer, device, scheduler, n_exams):\n",
        "\n",
        "    model = model.train()    # Tells your model that we are training\n",
        "    losses = []\n",
        "    correct_predictions = 0\n",
        "\n",
        "    #   Get a single batch in each loop\n",
        "    for d in data_loader:\n",
        "        input_ids = d[\"input_ids\"].to(device)\n",
        "        attention_mask = d[\"attention_mask\"].to(device)\n",
        "        targets = d[\"targets\"].to(device)\n",
        "\n",
        "        loss, logits = model(input_ids = input_ids, attention_mask = attention_mask, labels = targets)\n",
        "        \n",
        "        logits = logits.detach().cpu().numpy()\n",
        "        label_ids = targets.cpu().numpy()\n",
        "\n",
        "        preds = np.argmax(logits, axis=1).flatten()   #   Returns maximum index of logit\n",
        "        targ = label_ids.flatten()\n",
        "\n",
        "        correct_predictions += np.sum(preds == targ)\n",
        "\n",
        "        losses.append(loss.item())\n",
        "        loss.backward()     #       Performs backpropagation(computes derivates of loss to parameters)\n",
        "        nn.utils.clip_grad_norm_(model.parameters(), max_norm=1.0)  #  Clipping gradients to avoid explode gradient\n",
        "        optimizer.step()       #    After gradients are computed by loss.backward() this makes the optimizer iterate over all parameters it is supposed to update and use internally #stored grad to update their values\n",
        "        scheduler.step()    #       Make sure learning rate changes. If we dont provide this param stays at initial value\n",
        "        optimizer.zero_grad()   #   Clears old gradients from last step\n",
        "\n",
        "    return correct_predictions/n_exams, np.mean(losses)"
      ],
      "execution_count": null,
      "outputs": []
    },
    {
      "cell_type": "code",
      "metadata": {
        "id": "fBbkOvyt5l17"
      },
      "source": [
        "#   Define function to validate our model on one epoch\n",
        "def val_model(model, data_loader, device, n_exams):\n",
        "    model = model.eval()    #   Tells model we are in validation mode\n",
        "    losses = []\n",
        "    correct_preds = 0\n",
        "\n",
        "    with torch.no_grad():\n",
        "        for data in data_loader:\n",
        "            input_ids = data['input_ids'].to(device)\n",
        "            attention_mask = data['attention_mask'].to(device)\n",
        "            targets = data['targets'].to(device)\n",
        "            \n",
        "            loss, logit = model(input_ids = input_ids, attention_mask = attention_mask, labels = targets)\n",
        "\n",
        "            logits = logit.detach().cpu().numpy()\n",
        "            labels = targets.cpu().numpy()\n",
        "\n",
        "            preds = np.argmax(logits, axis = 1).flatten()\n",
        "            targ = labels.flatten()\n",
        "\n",
        "            correct_preds += np.sum(preds == targ)\n",
        "            losses.append(loss.item())\n",
        "    return correct_preds/n_exams, np.mean(losses)  "
      ],
      "execution_count": null,
      "outputs": []
    },
    {
      "cell_type": "code",
      "metadata": {
        "id": "dOT4xD0O5lzA",
        "colab": {
          "base_uri": "https://localhost:8080/"
        },
        "outputId": "2e53b2de-ec73-488a-f512-6e02c9eb86f1"
      },
      "source": [
        "history = defaultdict(list)\n",
        "best_acc = 0\n",
        "\n",
        "for epoch in range(epoches):\n",
        "\n",
        "    print(f'Epoch {epoch + 1}/{epoches}[=============================]')\n",
        "\n",
        "    train_acc, train_loss = train_epoch(model, train_data, optimizer, device, scheduler, len(df_train))\n",
        "    print(f'Train: - Loss {train_loss}     - Accuracy {train_acc}')\n",
        "\n",
        "    val_acc, val_loss = val_model(model, val_data, device, len(df_val))\n",
        "    print(f'Val  : - Loss {val_loss}      - Accuracy {val_acc}\\n')\n",
        "\n",
        "    history['train_acc'].append(train_acc)\n",
        "    history['train_loss'].append(train_loss)\n",
        "    history['val_acc'].append(val_acc)\n",
        "    history['val_loss'].append(val_loss)\n",
        "\n",
        "    if val_acc > best_acc:\n",
        "        torch.save(model.state_dict(), 'BERT_model.bin')\n",
        "        best_acc = val_acc"
      ],
      "execution_count": null,
      "outputs": [
        {
          "output_type": "stream",
          "text": [
            "Epoch 1/5[=============================]\n",
            "Train: - Loss 0.2994514126926524     - Accuracy 0.8794571428571428\n",
            "Val  : - Loss 0.23514060306348908      - Accuracy 0.9056\n",
            "\n",
            "Epoch 2/5[=============================]\n",
            "Train: - Loss 0.15870925487778695     - Accuracy 0.9504285714285714\n",
            "Val  : - Loss 0.34006202575524275      - Accuracy 0.9121333333333334\n",
            "\n",
            "Epoch 3/5[=============================]\n",
            "Train: - Loss 0.08332648630801676     - Accuracy 0.9793142857142857\n",
            "Val  : - Loss 0.4060766203597045      - Accuracy 0.9098666666666667\n",
            "\n",
            "Epoch 4/5[=============================]\n",
            "Train: - Loss 0.037765200742327996     - Accuracy 0.9916285714285714\n",
            "Val  : - Loss 0.5345862069059717      - Accuracy 0.9106666666666666\n",
            "\n",
            "Epoch 5/5[=============================]\n",
            "Train: - Loss 0.018376840749794128     - Accuracy 0.9965142857142857\n",
            "Val  : - Loss 0.5493092715091356      - Accuracy 0.9130666666666667\n",
            "\n"
          ],
          "name": "stdout"
        }
      ]
    },
    {
      "cell_type": "code",
      "metadata": {
        "colab": {
          "base_uri": "https://localhost:8080/",
          "height": 614
        },
        "id": "GWXCeip0e0jv",
        "outputId": "c80ee0f7-42e2-4ef7-89d1-22e3e258ebc2"
      },
      "source": [
        "plt.figure(figsize = (10, 10))\n",
        "plt.subplot(2, 1, 1)\n",
        "plt.plot(history['train_acc'], label = 'train_acc', color = 'r')\n",
        "plt.plot(history['val_acc'], label = 'val_acc', color = 'g')\n",
        "plt.title(\"Train_Set\")\n",
        "plt.legend()\n",
        "plt.subplot(2, 1, 2)\n",
        "plt.plot(history['train_loss'], label = 'train_loss', color = 'r')\n",
        "plt.plot(history['val_loss'], label = 'val_loss', color = 'g')\n",
        "plt.title(\"Validate_Set\")\n",
        "plt.legend();"
      ],
      "execution_count": null,
      "outputs": [
        {
          "output_type": "display_data",
          "data": {
            "image/png": "[encoded data removed]",
            "text/plain": [
              "<Figure size 720x720 with 2 Axes>"
            ]
          },
          "metadata": {}
        }
      ]
    },
    {
      "cell_type": "markdown",
      "metadata": {
        "id": "Y9K0sQFyXaRA"
      },
      "source": [
        "### ***Evaluate model with TestSet***"
      ]
    },
    {
      "cell_type": "code",
      "metadata": {
        "id": "PK4ulqIDaU-j"
      },
      "source": [
        "model = DistilBertForSequenceClassification.from_pretrained('distilbert-base-uncased', num_labels = 2)\n",
        "model.load_state_dict(torch.load('my_model/BERT_model_best.bin'))\n",
        "#   Tells model to use CUDA device\n",
        "model = model.to(device)"
      ],
      "execution_count": null,
      "outputs": []
    },
    {
      "cell_type": "code",
      "metadata": {
        "colab": {
          "base_uri": "https://localhost:8080/"
        },
        "id": "tm3nH6EtYjlR",
        "outputId": "1e2dd106-f048-44be-a0dc-c6acc2694a7b"
      },
      "source": [
        "test_acc, _ = val_model(model, test_data, device, len(df_test))\n",
        "test_acc.item()"
      ],
      "execution_count": null,
      "outputs": [
        {
          "output_type": "execute_result",
          "data": {
            "text/plain": [
              "0.9150666666666667"
            ]
          },
          "metadata": {},
          "execution_count": 35
        }
      ]
    },
    {
      "cell_type": "markdown",
      "metadata": {
        "id": "G3Hs21YkclV2"
      },
      "source": [
        "$=>$ Our model seems to generalize very well"
      ]
    },
    {
      "cell_type": "markdown",
      "metadata": {
        "id": "ySj7E5jghkfv"
      },
      "source": [
        "### ***Create Confusion Matrix to evaluate model***"
      ]
    },
    {
      "cell_type": "markdown",
      "metadata": {
        "id": "VqhG3Pq9c45D"
      },
      "source": [
        "1. *Create a function to get the predictions from model*"
      ]
    },
    {
      "cell_type": "code",
      "metadata": {
        "id": "VNGxAnsVctoS"
      },
      "source": [
        "def predict_model(model, data_loader, device):\n",
        "    model = model.eval()  \n",
        "    predicted = np.array([])\n",
        "    real_val = np.array([])\n",
        "\n",
        "    with torch.no_grad():  #  Tells model that don't use CUDA\n",
        "        for data in data_loader:\n",
        "            input_ids = data['input_ids'].to(device)\n",
        "            attention_mask = data['attention_mask'].to(device)\n",
        "            targets = data['targets'].to(device)\n",
        "\n",
        "            _, pred = model(input_ids = input_ids, attention_mask = attention_mask, labels = targets)\n",
        "\n",
        "            #   Convert preds to numpy array\n",
        "            preds = pred.detach().cpu().numpy()\n",
        "            #  Get predict values by argmax\n",
        "            pred_arg = np.argmax(preds, axis = 1).flatten()\n",
        "            predicted = np.append(predicted, pred_arg)\n",
        "\n",
        "            #   Convert targets values to numpy array\n",
        "            targ = targets.cpu().numpy()\n",
        "            labels = targ.flatten()\n",
        "            real_val = np.append(real_val, labels)\n",
        "\n",
        "\n",
        "    return real_val, predicted"
      ],
      "execution_count": null,
      "outputs": []
    },
    {
      "cell_type": "markdown",
      "metadata": {
        "id": "Qw4AEKN0hzqp"
      },
      "source": [
        "2. *Create a confusion matrix function*"
      ]
    },
    {
      "cell_type": "code",
      "metadata": {
        "id": "jh6sNdwOh4kX"
      },
      "source": [
        "def show_confusion_matrix(confus_mtr):\n",
        "    hmap = sns.heatmap(confus_mtr, annot = True, fmt = \"d\", cmap = \"Blues\")\n",
        "    hmap.yaxis.set_ticklabels(hmap.yaxis.get_ticklabels(), rotation = 0, ha = 'right')\n",
        "    hmap.xaxis.set_ticklabels(hmap.xaxis.get_ticklabels(), rotation = 0, ha = 'right')\n",
        "    plt.xlabel('Predicted sentiment')\n",
        "    plt.ylabel('True sentiment');"
      ],
      "execution_count": null,
      "outputs": []
    },
    {
      "cell_type": "markdown",
      "metadata": {
        "id": "Z5A9zuiNiHEj"
      },
      "source": [
        "3. *Get Evaluation*"
      ]
    },
    {
      "cell_type": "code",
      "metadata": {
        "colab": {
          "base_uri": "https://localhost:8080/"
        },
        "id": "bI00Q8Lu890a",
        "outputId": "d5ef8c00-dbe1-4b43-bffe-3c58c709549c"
      },
      "source": [
        "#   Get value from predict_model function\n",
        "y_real, y_pred = predict_model(model, test_data, device)\n",
        "print(y_real.shape)\n",
        "print(y_pred.shape)"
      ],
      "execution_count": null,
      "outputs": [
        {
          "output_type": "stream",
          "name": "stdout",
          "text": [
            "7500\n",
            "7500\n"
          ]
        }
      ]
    },
    {
      "cell_type": "code",
      "metadata": {
        "colab": {
          "base_uri": "https://localhost:8080/",
          "height": 289
        },
        "id": "c46ALf6yAB4v",
        "outputId": "2f400094-4c1a-4261-ed6d-256a0cb90db0"
      },
      "source": [
        "#   Show Confusion Matrix\n",
        "cm = confusion_matrix(y_real, y_pred)\n",
        "class_names = [\"positive\", \"negative\"]\n",
        "df_cm = pd.DataFrame(cm, index = class_names, columns = class_names)\n",
        "show_confusion_matrix(df_cm)\n"
      ],
      "execution_count": null,
      "outputs": [
        {
          "output_type": "display_data",
          "data": {
            "image/png": "[encoded data removed]",
            "text/plain": [
              "<Figure size 432x288 with 2 Axes>"
            ]
          },
          "metadata": {}
        }
      ]
    },
    {
      "cell_type": "code",
      "metadata": {
        "colab": {
          "base_uri": "https://localhost:8080/"
        },
        "id": "P4wNMfDTGPHO",
        "outputId": "0a509259-ccd6-4c4f-fcf7-9bdc28f4915d"
      },
      "source": [
        "#   Count scale of false predicted review and the total\n",
        "np.sum(y_real != y_pred) / len(df_test)"
      ],
      "execution_count": null,
      "outputs": [
        {
          "output_type": "execute_result",
          "data": {
            "text/plain": [
              "0.08493333333333333"
            ]
          },
          "metadata": {},
          "execution_count": 290
        }
      ]
    },
    {
      "cell_type": "markdown",
      "metadata": {
        "id": "a_APNAHOFaH0"
      },
      "source": [
        "$=>$ This confirms that our model is having difficult classifying neural reviews. It mistakes those for negative and positive at a roughly equal frequency. However, the scale of false predicted is quite small"
      ]
    }
  ]
}
